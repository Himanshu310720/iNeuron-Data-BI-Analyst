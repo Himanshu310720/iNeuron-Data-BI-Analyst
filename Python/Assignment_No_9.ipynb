{
 "cells": [
  {
   "cell_type": "code",
   "execution_count": 1,
   "id": "a4ab2511",
   "metadata": {},
   "outputs": [
    {
     "name": "stdout",
     "output_type": "stream",
     "text": [
      "The original string is : ineuron is best for ML and DL\n",
      "String after multiple replace : ineuron is gfg gfg ML and DL\n"
     ]
    }
   ],
   "source": [
    "#Q1\n",
    "test_str = 'ineuron is best for ML and DL'\n",
    "  \n",
    "print(\"The original string is : \" + str(test_str))\n",
    "  \n",
    "word_list = [\"best\", 'CS', 'for']\n",
    "  \n",
    "repl_wrd = 'gfg'\n",
    "  \n",
    "res = ' '.join([repl_wrd if idx in word_list else idx for idx in test_str.split()])\n",
    "  \n",
    "print(\"String after multiple replace : \" + str(res)) "
   ]
  },
  {
   "cell_type": "code",
   "execution_count": 2,
   "id": "b9bef1c9",
   "metadata": {},
   "outputs": [
    {
     "name": "stdout",
     "output_type": "stream",
     "text": [
      "ABC\n",
      "ACB\n",
      "BAC\n",
      "BCA\n",
      "CAB\n",
      "CBA\n"
     ]
    }
   ],
   "source": [
    "#Q2\n",
    "from itertools import permutations\n",
    "  \n",
    "def allPermutations(str):\n",
    "       \n",
    "     permList = permutations(str)\n",
    "  \n",
    "     for perm in list(permList):\n",
    "         print (''.join(perm))\n",
    "    \n",
    "if __name__ == \"__main__\":\n",
    "    str = 'ABC'\n",
    "    allPermutations(str)"
   ]
  },
  {
   "cell_type": "code",
   "execution_count": 3,
   "id": "ab4f60e0",
   "metadata": {},
   "outputs": [
    {
     "name": "stdout",
     "output_type": "stream",
     "text": [
      "Urls:  ['https://auth.ineuron.org/user/Chinmoy%20Lenka/articles', 'http://www.ineron.org/']\n"
     ]
    }
   ],
   "source": [
    "#Q3\n",
    "import re\n",
    "  \n",
    "def Find(string):\n",
    "    regex = r\"(?i)\\b((?:https?://|www\\d{0,3}[.]|[a-z0-9.\\-]+[.][a-z]{2,4}/)(?:[^\\s()<>]+|\\(([^\\s()<>]+|(\\([^\\s()<>]+\\)))*\\))+(?:\\(([^\\s()<>]+|(\\([^\\s()<>]+\\)))*\\)|[^\\s`!()\\[\\]{};:'\\\".,<>?«»“”‘’]))\"\n",
    "    url = re.findall(regex,string)      \n",
    "    return [x[0] for x in url]\n",
    "      \n",
    "# Driver Code\n",
    "string = 'My Profile: https://auth.ineuron.org/user/Chinmoy%20Lenka/articles in the portal of http://www.ineron.org/'\n",
    "print(\"Urls: \", Find(string))"
   ]
  },
  {
   "cell_type": "code",
   "execution_count": 4,
   "id": "b9863d6b",
   "metadata": {},
   "outputs": [
    {
     "name": "stdout",
     "output_type": "stream",
     "text": [
      "120\n"
     ]
    }
   ],
   "source": [
    "#Q4\n",
    "def exec_code():\n",
    "    LOC = \"\"\"\n",
    "def factorial(num):\n",
    "    fact=1\n",
    "    for i in range(1,num+1):\n",
    "        fact = fact*i\n",
    "    return fact\n",
    "print(factorial(5))\n",
    "\"\"\"\n",
    "    exec(LOC)\n",
    "     \n",
    "# Driver Code\n",
    "exec_code()"
   ]
  },
  {
   "cell_type": "code",
   "execution_count": 5,
   "id": "b5c3c034",
   "metadata": {},
   "outputs": [
    {
     "name": "stdout",
     "output_type": "stream",
     "text": [
      "Left Rotation :  ytonightStud\n",
      "Right Rotation :  ightStudyton\n"
     ]
    }
   ],
   "source": [
    "#Q5\n",
    "def rotate_string(s,d): \n",
    "  \n",
    "  \n",
    "    Lfirst = s[0 : d] \n",
    "    Lsecond = s[d :] \n",
    "    Rfirst = s[0 : len(s)-d] \n",
    "    Rsecond = s[len(s)-d : ] \n",
    "  \n",
    "    print (\"Left Rotation : \", (Lsecond + Lfirst) )\n",
    "    print (\"Right Rotation : \", (Rsecond + Rfirst)) \n",
    "  \n",
    "\n",
    "string = 'Studytonight'\n",
    "d=4\n",
    "rotate_string(string,d)"
   ]
  },
  {
   "cell_type": "code",
   "execution_count": 6,
   "id": "4e83f68d",
   "metadata": {},
   "outputs": [
    {
     "name": "stdout",
     "output_type": "stream",
     "text": [
      "true\n"
     ]
    }
   ],
   "source": [
    "#Q6\n",
    "def checkEmpty(input, pattern): \n",
    "        \n",
    "    if len(input)== 0 and len(pattern)== 0: \n",
    "         return 'true'\n",
    "    \n",
    "    if len(pattern)== 0: \n",
    "         return 'true'\n",
    "    \n",
    "    while (len(input) != 0): \n",
    "  \n",
    "        index = input.find(pattern) \n",
    "  \n",
    "        if (index ==(-1)): \n",
    "          return 'false'\n",
    "\n",
    "        input = input[0:index] + input[index + len(pattern):]              \n",
    "  \n",
    "    return 'true'\n",
    "    \n",
    "\n",
    "if __name__ == \"__main__\": \n",
    "    input ='HIMHIMHUHU'\n",
    "    pattern ='HIMHU'\n",
    "    print (checkEmpty(input, pattern))"
   ]
  },
  {
   "cell_type": "code",
   "execution_count": 7,
   "id": "4bc0b38d",
   "metadata": {},
   "outputs": [
    {
     "name": "stdout",
     "output_type": "stream",
     "text": [
      "t o i \n"
     ]
    }
   ],
   "source": [
    "#Q7\n",
    "string = \"tutorialspoint\"\n",
    "\n",
    "duplicates = {}\n",
    "for char in string:\n",
    "\n",
    "   if char in duplicates:\n",
    "      \n",
    "      duplicates[char] += 1\n",
    "   else:\n",
    "     \n",
    "      duplicates[char] = 1\n",
    "for key, value in duplicates.items():\n",
    "   if value > 1:\n",
    "      print(key, end = \" \")\n",
    "print()"
   ]
  },
  {
   "cell_type": "code",
   "execution_count": 9,
   "id": "f07ea068",
   "metadata": {},
   "outputs": [
    {
     "ename": "SyntaxError",
     "evalue": "invalid syntax (<ipython-input-9-589ff314159b>, line 3)",
     "output_type": "error",
     "traceback": [
      "\u001b[1;36m  File \u001b[1;32m\"<ipython-input-9-589ff314159b>\"\u001b[1;36m, line \u001b[1;32m3\u001b[0m\n\u001b[1;33m    String.prototype.replaceAll = function(search, replacement){\u001b[0m\n\u001b[1;37m                                                               ^\u001b[0m\n\u001b[1;31mSyntaxError\u001b[0m\u001b[1;31m:\u001b[0m invalid syntax\n"
     ]
    }
   ],
   "source": [
    "#Q8\n",
    "\n",
    "String.prototype.replaceAll = function(search, replacement){\n",
    "    return this.split(search).join(replacement);\n",
    "};\n",
    " \n",
    "const str = 'Hello World 123';\n",
    "console.log(str.replaceAll(\" \", \"\"));"
   ]
  },
  {
   "cell_type": "code",
   "execution_count": 10,
   "id": "be54de48",
   "metadata": {},
   "outputs": [
    {
     "name": "stdout",
     "output_type": "stream",
     "text": [
      "The dictionary is : \n",
      "{'hi': [5, 3, 8, 0], 'there': [22, 51, 63, 77], 'how': [7, 0, 22], 'are': [12, 11, 45], 'you': [56, 31, 89, 90]}\n",
      "The unique values are : \n",
      "[0, 3, 5, 7, 8, 11, 12, 22, 31, 45, 51, 56, 63, 77, 89, 90]\n"
     ]
    }
   ],
   "source": [
    "#Q9\n",
    "my_dict = {'hi' : [5,3,8, 0],\n",
    "   'there' : [22, 51, 63, 77],\n",
    "   'how' : [7, 0, 22],\n",
    "   'are' : [12, 11, 45],\n",
    "   'you' : [56, 31, 89, 90]}\n",
    "\n",
    "print(\"The dictionary is : \")\n",
    "print(my_dict)\n",
    "\n",
    "my_result = list(sorted({elem for val in my_dict.values() for elem in val}))\n",
    "\n",
    "print(\"The unique values are : \")\n",
    "print(my_result)\n"
   ]
  },
  {
   "cell_type": "code",
   "execution_count": 11,
   "id": "530a9d16",
   "metadata": {},
   "outputs": [
    {
     "name": "stdout",
     "output_type": "stream",
     "text": [
      "Sum : 600\n"
     ]
    }
   ],
   "source": [
    "#Q10\n",
    "def returnSum(myDict):\n",
    "     \n",
    "    list = []\n",
    "    for i in myDict:\n",
    "        list.append(myDict[i])\n",
    "    final = sum(list)\n",
    "     \n",
    "    return final\n",
    " \n",
    "# Driver Function\n",
    "dict = {'a': 100, 'b':200, 'c':300}\n",
    "print(\"Sum :\", returnSum(dict))"
   ]
  }
 ],
 "metadata": {
  "kernelspec": {
   "display_name": "Python 3",
   "language": "python",
   "name": "python3"
  },
  "language_info": {
   "codemirror_mode": {
    "name": "ipython",
    "version": 3
   },
   "file_extension": ".py",
   "mimetype": "text/x-python",
   "name": "python",
   "nbconvert_exporter": "python",
   "pygments_lexer": "ipython3",
   "version": "3.8.8"
  }
 },
 "nbformat": 4,
 "nbformat_minor": 5
}
