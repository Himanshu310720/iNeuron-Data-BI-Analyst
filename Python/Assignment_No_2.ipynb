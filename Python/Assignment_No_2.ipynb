{
 "cells": [
  {
   "cell_type": "code",
   "execution_count": 1,
   "id": "63cf58a5",
   "metadata": {},
   "outputs": [
    {
     "name": "stdout",
     "output_type": "stream",
     "text": [
      "34\n"
     ]
    }
   ],
   "source": [
    "# Q1 \n",
    "\n",
    "def Fibonacci(n):\n",
    "    if n <= 0:\n",
    "        print(\"Incorrect Input\")\n",
    "    elif n == 1:\n",
    "        return 0;\n",
    "    elif n == 2:\n",
    "        return 1;\n",
    "    else:\n",
    "         return Fibonacci(n-1) + Fibonacci(n-2)\n",
    "    \n",
    "\n",
    "print(Fibonacci(10))"
   ]
  },
  {
   "cell_type": "code",
   "execution_count": 2,
   "id": "eeaf2141",
   "metadata": {},
   "outputs": [
    {
     "name": "stdout",
     "output_type": "stream",
     "text": [
      "Enter The Number: 10\n",
      "No\n"
     ]
    }
   ],
   "source": [
    "# Q2\n",
    "\n",
    "n = int(input(\"Enter The Number: \"))\n",
    "c = 0\n",
    "a = 1\n",
    "b = 1\n",
    "if n == 0 or n == 1:\n",
    "    print(\"Yes\")\n",
    "else:\n",
    "    while c<n:\n",
    "        c=a+b\n",
    "        b=a\n",
    "        a=c\n",
    "    if c == n:\n",
    "        print(\"Yes\")\n",
    "    else:\n",
    "        print(\"No\")"
   ]
  },
  {
   "cell_type": "code",
   "execution_count": 3,
   "id": "c45b6084",
   "metadata": {},
   "outputs": [
    {
     "name": "stdout",
     "output_type": "stream",
     "text": [
      "Enter Multiple N0:5\n",
      "Number Multiple We are Finding:4\n",
      "10\n"
     ]
    }
   ],
   "source": [
    "#Q3\n",
    "\n",
    "def MultFibo(k,n):\n",
    "    f1 = 0;\n",
    "    f2 = 0;\n",
    "    i = 2;\n",
    "    while i!=0:\n",
    "        f3 = f1 + f2\n",
    "        f1 = f2\n",
    "        f2 = f3\n",
    "    \n",
    "        if f2%k == 0:\n",
    "           return n*i\n",
    "        \n",
    "        i+=1\n",
    "    return\n",
    "\n",
    "n =  int(input(\"Enter Multiple N0:\"))\n",
    "k = int(input(\"Number Multiple We are Finding:\"))\n",
    "\n",
    "print(MultFibo(k,n))"
   ]
  },
  {
   "cell_type": "code",
   "execution_count": 4,
   "id": "6240c161",
   "metadata": {},
   "outputs": [
    {
     "name": "stdout",
     "output_type": "stream",
     "text": [
      "Please Enter the string:python\n",
      "p \t 112\n",
      "y \t 121\n",
      "t \t 116\n",
      "h \t 104\n",
      "o \t 111\n",
      "n \t 110\n"
     ]
    }
   ],
   "source": [
    "#Q4\n",
    "n = input(\"Please Enter the string:\")\n",
    "\n",
    "string_length = len(n)\n",
    "for k in n:\n",
    "    ASCII = ord(k)\n",
    "    print(k,\"\\t\",ASCII)"
   ]
  },
  {
   "cell_type": "code",
   "execution_count": 5,
   "id": "9ea72661",
   "metadata": {},
   "outputs": [
    {
     "name": "stdout",
     "output_type": "stream",
     "text": [
      "Enter Number:5\n",
      "Sum of Squre 55\n"
     ]
    }
   ],
   "source": [
    "#Q5\n",
    "\n",
    "def Squresum(n):\n",
    "    sm = 0\n",
    "    for i in range(1, n+1):\n",
    "        sm = sm + (i*i)\n",
    "    return sm\n",
    "n = int(input(\"Enter Number:\"))\n",
    "print(\"Sum of Squre\",Squresum(n))"
   ]
  },
  {
   "cell_type": "code",
   "execution_count": 6,
   "id": "47013945",
   "metadata": {},
   "outputs": [
    {
     "name": "stdout",
     "output_type": "stream",
     "text": [
      "Enter Number:5\n",
      "Sum of Cube 225\n"
     ]
    }
   ],
   "source": [
    "#Q6\n",
    "\n",
    "def SumSeries(n):\n",
    "    sum = 0\n",
    "    for i in range(1, n+1):\n",
    "          sum += i*i*i\n",
    "    return sum\n",
    "\n",
    "n = int(input(\"Enter Number:\"))\n",
    "print(\"Sum of Cube\",SumSeries(n))"
   ]
  },
  {
   "cell_type": "code",
   "execution_count": 7,
   "id": "7b91c4b0",
   "metadata": {},
   "outputs": [
    {
     "name": "stdout",
     "output_type": "stream",
     "text": [
      "Sum of the array is: 34\n"
     ]
    }
   ],
   "source": [
    "#Q7\n",
    "\n",
    "\n",
    "def _sum(arr):\n",
    "    sum =0\n",
    "    for i in arr:\n",
    "        sum =sum + i\n",
    "    return(sum)\n",
    "\n",
    "arr =[]\n",
    "arr = [12,3,4,15]\n",
    "\n",
    "n = len(arr)\n",
    "\n",
    "ans = _sum(arr)\n",
    "\n",
    "print('Sum of the array is:',ans)"
   ]
  },
  {
   "cell_type": "code",
   "execution_count": 8,
   "id": "4df70b2d",
   "metadata": {},
   "outputs": [
    {
     "name": "stdout",
     "output_type": "stream",
     "text": [
      "Largest in given array is 9809\n"
     ]
    }
   ],
   "source": [
    "#Q8\n",
    "\n",
    "\n",
    "def largest(arr,n):\n",
    "    \n",
    "    max = arr[0]\n",
    "    \n",
    "    for i in range(1,n):\n",
    "        if arr[i] > max:\n",
    "            max = arr[i]\n",
    "    return max\n",
    "    \n",
    "    \n",
    "arr = [10,324,45,90,9809]\n",
    "\n",
    "n = len(arr)\n",
    "Ans = largest(arr,n)\n",
    "print(\"Largest in given array is\",Ans)"
   ]
  },
  {
   "cell_type": "code",
   "execution_count": 9,
   "id": "355fc337",
   "metadata": {},
   "outputs": [
    {
     "name": "stdout",
     "output_type": "stream",
     "text": [
      "Array After n left Rotation is: [3, 4, 5, 6, 7, 8, 1, 2]\n"
     ]
    }
   ],
   "source": [
    "#Q9\n",
    "\n",
    "def rotateArray(arr,n,d):\n",
    "    temp=[]\n",
    "    i = 0\n",
    "    while(i<d):\n",
    "        temp.append(arr[i])\n",
    "        i = i + 1\n",
    "    i = 0\n",
    "    while(d < n):\n",
    "        arr[i] = arr[d]\n",
    "        i = i+1\n",
    "        d = d+1\n",
    "    arr[:] = arr[: i] + temp\n",
    "    return arr\n",
    "\n",
    "arr = [1,2,3 ,4,5,6,7 ,8]\n",
    "print(\"Array After n left Rotation is:\", end=' ')\n",
    "print(rotateArray(arr,len(arr),2))"
   ]
  },
  {
   "cell_type": "code",
   "execution_count": 10,
   "id": "f2265972",
   "metadata": {},
   "outputs": [
    {
     "name": "stdout",
     "output_type": "stream",
     "text": [
      "10 20 13 16 7 98 990 45 \n",
      "Shifted Array:\n",
      "45 990 98 7 16 13 10 20 "
     ]
    }
   ],
   "source": [
    "#Q10\n",
    "def reverse(arr, start,end):\n",
    "    while(start < end):\n",
    "        temp = arr[start]\n",
    "        arr[start]=arr[end]\n",
    "        arr[end]=temp\n",
    "        start=start+1\n",
    "        end =end-1\n",
    "        \n",
    "def rotate (a,d):\n",
    "    if d == 0:\n",
    "        retrun \n",
    "    n = len(a)\n",
    "    d = d%n\n",
    "    reverse(a,0,d-1)\n",
    "    reverse(a,d,d-1)\n",
    "    reverse(a,0,n-1)\n",
    "    \n",
    "def printArray(arr):\n",
    "    for i in range(0, len(arr)):\n",
    "        print(arr[i],end=\" \")\n",
    "\n",
    "a = [10, 20, 13, 16, 7, 98, 990, 45]\n",
    "n = len(a)\n",
    "d = 2\n",
    "printArray(a)\n",
    "rotate(a,d)\n",
    "print(\"\\nShifted Array:\")\n",
    "printArray(a)"
   ]
  },
  {
   "cell_type": "code",
   "execution_count": 11,
   "id": "9e6fab91",
   "metadata": {},
   "outputs": [
    {
     "name": "stdout",
     "output_type": "stream",
     "text": [
      "5 6 56 78 12 10 "
     ]
    }
   ],
   "source": [
    "#Q11\n",
    "\n",
    "def split(arr,n,k):\n",
    "    for i in range(0,k):\n",
    "        x = arr[0]\n",
    "        for j in range(0, n-1):\n",
    "             arr[j] = arr[j+1]\n",
    "            \n",
    "        arr[n-1] = x\n",
    "        \n",
    "arr = [12,10,5,6,56,78]\n",
    "n = len(arr)\n",
    "position = 2\n",
    "\n",
    "split(arr,n,position)\n",
    "\n",
    "for i in range(0,n):\n",
    "    print(arr[i],end=\" \")"
   ]
  }
 ],
 "metadata": {
  "kernelspec": {
   "display_name": "Python 3",
   "language": "python",
   "name": "python3"
  },
  "language_info": {
   "codemirror_mode": {
    "name": "ipython",
    "version": 3
   },
   "file_extension": ".py",
   "mimetype": "text/x-python",
   "name": "python",
   "nbconvert_exporter": "python",
   "pygments_lexer": "ipython3",
   "version": "3.8.8"
  }
 },
 "nbformat": 4,
 "nbformat_minor": 5
}
