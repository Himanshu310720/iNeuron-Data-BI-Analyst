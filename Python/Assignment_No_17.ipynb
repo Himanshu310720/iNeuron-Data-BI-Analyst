{
 "cells": [
  {
   "cell_type": "code",
   "execution_count": 1,
   "id": "5980699b",
   "metadata": {},
   "outputs": [
    {
     "name": "stdout",
     "output_type": "stream",
     "text": [
      "2 : 25\n",
      "3 : 31\n",
      "Both are same times\n"
     ]
    }
   ],
   "source": [
    "#Q1\n",
    "def difference(h1, m1, h2, m2):\n",
    "      \n",
    "    # convert h1 : m1 into\n",
    "    # minutes\n",
    "    t1 = h1 * 60 + m1\n",
    "      \n",
    "    # convert h2 : m2 into\n",
    "    # minutes \n",
    "    t2 = h2 * 60 + m2\n",
    "      \n",
    "    if (t1 == t2): \n",
    "        print(\"Both are same times\")\n",
    "        return \n",
    "    else:\n",
    "          \n",
    "        # calculating the difference\n",
    "        diff = t2-t1\n",
    "          \n",
    "    # calculating hours from\n",
    "    # difference\n",
    "    h = (int(diff / 60)) % 24\n",
    "      \n",
    "    # calculating minutes from \n",
    "    # difference\n",
    "    m = diff % 60\n",
    "  \n",
    "    print(h, \":\", m)\n",
    "  \n",
    "# Driver's code\n",
    "if __name__ == \"__main__\":\n",
    "      \n",
    "    difference(7, 20, 9, 45)\n",
    "    difference(15, 23, 18, 54)\n",
    "    difference(16, 20, 16, 20)"
   ]
  },
  {
   "cell_type": "code",
   "execution_count": 2,
   "id": "1fc262aa",
   "metadata": {},
   "outputs": [
    {
     "name": "stdout",
     "output_type": "stream",
     "text": [
      "Press ENTER to count laps.\n",
      "Press CTRL+C to stop\n",
      "1\n",
      "Lap No. 1\n",
      "Total Time: 6.17\n",
      "Lap Time: 6.17\n",
      "********************\n",
      "2\n",
      "Lap No. 2\n",
      "Total Time: 21.76\n",
      "Lap Time: 15.59\n",
      "********************\n",
      "3\n",
      "Lap No. 3\n",
      "Total Time: 24.19\n",
      "Lap Time: 2.43\n",
      "********************\n",
      "4\n",
      "Lap No. 4\n",
      "Total Time: 33.7\n",
      "Lap Time: 9.51\n",
      "********************\n",
      "we\n",
      "Lap No. 5\n",
      "Total Time: 124.16\n",
      "Lap Time: 90.46\n",
      "********************\n",
      "Done\n"
     ]
    }
   ],
   "source": [
    "#Q2\n",
    "import time\n",
    "  \n",
    "  \n",
    "# Timer starts\n",
    "starttime=time.time()\n",
    "lasttime=starttime\n",
    "lapnum=1\n",
    "  \n",
    "print(\"Press ENTER to count laps.\\nPress CTRL+C to stop\")\n",
    "  \n",
    "try:\n",
    "     while True:\n",
    "              \n",
    "          # Input for the ENTER key press\n",
    "          input()\n",
    "  \n",
    "          # The current lap-time\n",
    "          laptime=round((time.time() - lasttime), 2)\n",
    "  \n",
    "          # Total time elapsed \n",
    "          # since the timer started\n",
    "          totaltime=round((time.time() - starttime), 2)\n",
    "  \n",
    "          # Printing the lap number,\n",
    "          # lap-time and total time\n",
    "          print(\"Lap No. \"+str(lapnum)) \n",
    "          print(\"Total Time: \"+str(totaltime))\n",
    "          print(\"Lap Time: \"+str(laptime))\n",
    "            \n",
    "          print(\"*\"*20)\n",
    "  \n",
    "          # Updating the previous total time\n",
    "          # and lap number\n",
    "          lasttime=time.time()\n",
    "          lapnum+=1\n",
    "  \n",
    "# Stopping when CTRL+C is pressed\n",
    "except KeyboardInterrupt:\n",
    "     print(\"Done\")"
   ]
  },
  {
   "cell_type": "code",
   "execution_count": 4,
   "id": "4117b5f0",
   "metadata": {},
   "outputs": [
    {
     "name": "stdout",
     "output_type": "stream",
     "text": [
      "1637778600.0\n"
     ]
    }
   ],
   "source": [
    "#Q3\n",
    "import time\n",
    "import datetime\n",
    "  \n",
    "  \n",
    "string = \"25/11/2021\"\n",
    "print(time.mktime(datetime.datetime.strptime(string,\n",
    "                                             \"%d/%m/%Y\").timetuple()))"
   ]
  },
  {
   "cell_type": "code",
   "execution_count": 5,
   "id": "b06624eb",
   "metadata": {},
   "outputs": [
    {
     "name": "stdout",
     "output_type": "stream",
     "text": [
      "date_time: 2006-02-25 05:30:00\n",
      "type of dt: <class 'datetime.datetime'>\n"
     ]
    }
   ],
   "source": [
    "#Q4\n",
    "from datetime import datetime\n",
    "  \n",
    "  \n",
    "timestamp = 1545730073\n",
    "dt_obj = datetime.fromtimestamp(1140825600)\n",
    "  \n",
    "print(\"date_time:\",dt_obj)\n",
    "print(\"type of dt:\",type(dt_obj))"
   ]
  },
  {
   "cell_type": "code",
   "execution_count": 7,
   "id": "e998a2ef",
   "metadata": {},
   "outputs": [
    {
     "name": "stdout",
     "output_type": "stream",
     "text": [
      "Monday 52\n",
      "Tuesday 53\n",
      "Wednesday 52\n",
      "Thursday 52\n",
      "Friday 52\n",
      "Saturday 52\n",
      "Sunday 52\n"
     ]
    }
   ],
   "source": [
    "#Q5\n",
    "import datetime\n",
    "import calendar\n",
    "  \n",
    "def day_occur_time(year):\n",
    "     \n",
    "    # stores days in a week\n",
    "    days = [ \"Monday\", \"Tuesday\", \"Wednesday\", \n",
    "           \"Thursday\",  \"Friday\", \"Saturday\",\n",
    "           \"Sunday\" ]\n",
    "     \n",
    "    # Initialize all counts as 52\n",
    "    L = [52 for i in range(7)]\n",
    "     \n",
    "    # Find the index of the first day\n",
    "    # of the year\n",
    "    pos = -1\n",
    "    day = datetime.datetime(year, month = 1, day = 1).strftime(\"%A\")\n",
    "    for i in range(7):\n",
    "        if day == days[i]:\n",
    "            pos = i\n",
    "             \n",
    "    # mark the occurrence to be 53 of 1st day\n",
    "    # and 2nd day if the year is leap year\n",
    "    if calendar.isleap(year):\n",
    "        L[pos] += 1\n",
    "        L[(pos+1)%7] += 1\n",
    "         \n",
    "    else:\n",
    "        L[pos] += 1\n",
    "         \n",
    "     \n",
    "    # Print the days\n",
    "    for i in range(7):\n",
    "        print(days[i], L[i])\n",
    "      \n",
    "  \n",
    "# Driver Code\n",
    "year = 2019\n",
    "day_occur_time(year)"
   ]
  },
  {
   "cell_type": "code",
   "execution_count": 8,
   "id": "f99f7020",
   "metadata": {},
   "outputs": [
    {
     "name": "stdout",
     "output_type": "stream",
     "text": [
      "Valid String\n",
      "Invalid String\n"
     ]
    }
   ],
   "source": [
    "#Q6\n",
    "import re\n",
    "  \n",
    "  \n",
    "def check(str, pattern):\n",
    "    \n",
    "    # _matching the strings\n",
    "    if re.search(pattern, str):\n",
    "        print(\"Valid String\")\n",
    "    else:\n",
    "        print(\"Invalid String\")\n",
    "  \n",
    "# _driver code\n",
    "pattern = re.compile('^[1234]+$')\n",
    "check('2134', pattern)\n",
    "check('349', pattern)"
   ]
  },
  {
   "cell_type": "code",
   "execution_count": 9,
   "id": "c60f4f8e",
   "metadata": {},
   "outputs": [
    {
     "name": "stdout",
     "output_type": "stream",
     "text": [
      "The no. of uppercase characters is 3\n",
      "The no. of lowercase characters is 11\n",
      "The no. of numerical characters is 3\n",
      "The no. of special characters is 4\n"
     ]
    }
   ],
   "source": [
    "#Q7\n",
    "import re\n",
    "  \n",
    "  \n",
    "string = \"HimanshuIsBest !, 123\"\n",
    "  \n",
    "# Creating separate lists using \n",
    "# the re.findall() method.\n",
    "uppercase_characters = re.findall(r\"[A-Z]\", string)\n",
    "lowercase_characters = re.findall(r\"[a-z]\", string)\n",
    "numerical_characters = re.findall(r\"[0-9]\", string)\n",
    "special_characters = re.findall(r\"[, .!?]\", string)\n",
    "  \n",
    "print(\"The no. of uppercase characters is\", len(uppercase_characters))\n",
    "print(\"The no. of lowercase characters is\", len(lowercase_characters))\n",
    "print(\"The no. of numerical characters is\", len(numerical_characters))\n",
    "print(\"The no. of special characters is\", len(special_characters))"
   ]
  },
  {
   "cell_type": "code",
   "execution_count": 10,
   "id": "92b41a56",
   "metadata": {},
   "outputs": [
    {
     "name": "stdout",
     "output_type": "stream",
     "text": [
      "55\n"
     ]
    }
   ],
   "source": [
    "#Q8\n",
    "import re \n",
    "from collections import Counter \n",
    "  \n",
    "def most_occr_element(word):\n",
    "      \n",
    "    # re.findall will extract all the elements \n",
    "    # from the string and make a list\n",
    "    arr = re.findall(r'[0-9]+', word)    \n",
    "      \n",
    "    # to store maxm frequency\n",
    "    maxm = 0  \n",
    "  \n",
    "    # to store maxm element of most frequency\n",
    "    max_elem = 0\n",
    "      \n",
    "    # counter will store all the number with \n",
    "    # their frequencies\n",
    "    # c = counter((55, 2), (2, 1), (3, 1), (4, 1))    \n",
    "    c = Counter(arr)\n",
    "    \n",
    "    # Store all the keys of counter in a list in\n",
    "    # which first would we our required element    \n",
    "    for x in list(c.keys()):\n",
    "  \n",
    "        if c[x]>= maxm:\n",
    "            maxm = c[x]\n",
    "            max_elem = int(x)\n",
    "                  \n",
    "    return max_elem\n",
    "  \n",
    "# Driver program \n",
    "if __name__ == \"__main__\": \n",
    "    word = 'geek55of55gee4ksabc3dr2x'\n",
    "    print(most_occr_element(word))"
   ]
  },
  {
   "cell_type": "code",
   "execution_count": 12,
   "id": "04939642",
   "metadata": {},
   "outputs": [
    {
     "name": "stdout",
     "output_type": "stream",
     "text": [
      "564\n"
     ]
    }
   ],
   "source": [
    "#Q9\n",
    "# a given string\n",
    "import re\n",
    "  \n",
    "def extractMax(input):\n",
    "  \n",
    "     # get a list of all numbers separated by \n",
    "     # lower case characters \n",
    "     # \\d+ is a regular expression which means\n",
    "     # one or more digit\n",
    "     # output will be like ['100','564','365']\n",
    "     numbers = re.findall('\\d+',input)\n",
    "  \n",
    "     # now we need to convert each number into integer\n",
    "     # int(string) converts string into integer\n",
    "     # we will map int() function onto all elements \n",
    "     # of numbers list\n",
    "     numbers = map(int,numbers)\n",
    "  \n",
    "     print(max(numbers))\n",
    "  \n",
    "# Driver program\n",
    "if __name__ == \"__main__\":\n",
    "    input = '100klh564abc365bg'\n",
    "    extractMax(input)"
   ]
  },
  {
   "cell_type": "code",
   "execution_count": 16,
   "id": "b4191ead",
   "metadata": {},
   "outputs": [
    {
     "name": "stdout",
     "output_type": "stream",
     "text": [
      "bruce Wayne Is Batman\n",
      "bruce wayne Is Batman\n",
      "bruce wayne is Batman\n",
      "bruce wayne is batman\n"
     ]
    }
   ],
   "source": [
    "#Q10\n",
    "import re\n",
    "   \n",
    "def putSpace(input):\n",
    "    words = re.findall('[A-Z][a-z]*', input)\n",
    "   \n",
    "    # Change first letter of each word into lower\n",
    "    # case\n",
    "    for i in range(0,len(words)):\n",
    "        words[i]=words[i][0].lower()+words[i][1:]\n",
    "        print(' '.join(words))\n",
    "     \n",
    "   \n",
    "# Driver program\n",
    "if __name__ == \"__main__\":\n",
    "    input = 'BruceWayneIsBatman'\n",
    "    putSpace(input)"
   ]
  }
 ],
 "metadata": {
  "kernelspec": {
   "display_name": "Python 3",
   "language": "python",
   "name": "python3"
  },
  "language_info": {
   "codemirror_mode": {
    "name": "ipython",
    "version": 3
   },
   "file_extension": ".py",
   "mimetype": "text/x-python",
   "name": "python",
   "nbconvert_exporter": "python",
   "pygments_lexer": "ipython3",
   "version": "3.8.8"
  }
 },
 "nbformat": 4,
 "nbformat_minor": 5
}
