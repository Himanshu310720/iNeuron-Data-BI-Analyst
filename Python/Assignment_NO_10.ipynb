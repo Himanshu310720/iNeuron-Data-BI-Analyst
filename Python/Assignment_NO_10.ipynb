{
 "cells": [
  {
   "cell_type": "code",
   "execution_count": 1,
   "id": "e3e5e86d",
   "metadata": {},
   "outputs": [
    {
     "name": "stdout",
     "output_type": "stream",
     "text": [
      "true\n"
     ]
    }
   ],
   "source": [
    "#Q1\n",
    "from collections import OrderedDict \n",
    "  \n",
    "def checkOrder(input, pattern): \n",
    "      \n",
    "\n",
    "    dict = OrderedDict.fromkeys(input) \n",
    "  \n",
    "\n",
    "    ptrlen = 0\n",
    "    for key,value in dict.items(): \n",
    "        if (key == pattern[ptrlen]): \n",
    "            ptrlen = ptrlen + 1\n",
    "          \n",
    "        \n",
    "        if (ptrlen == (len(pattern))): \n",
    "            return 'true'\n",
    "  \n",
    "    \n",
    "    return 'false'\n",
    "  \n",
    "\n",
    "if __name__ == \"__main__\": \n",
    "    input = 'engineers rock'\n",
    "    pattern = 'egr'\n",
    "    print (checkOrder(input,pattern)) "
   ]
  },
  {
   "cell_type": "code",
   "execution_count": 2,
   "id": "4a13220a",
   "metadata": {},
   "outputs": [
    {
     "name": "stdout",
     "output_type": "stream",
     "text": [
      "The list printed sorting by age: \n",
      "[{'name': 'Nikhil', 'age': 19}, {'name': 'Nandini', 'age': 20}, {'name': 'Manjeet', 'age': 20}]\n",
      "\r\n",
      "The list printed sorting by age and name: \n",
      "[{'name': 'Nikhil', 'age': 19}, {'name': 'Manjeet', 'age': 20}, {'name': 'Nandini', 'age': 20}]\n",
      "\r\n"
     ]
    }
   ],
   "source": [
    "#Q2\n",
    "from operator import itemgetter\n",
    "  \n",
    "\n",
    "lis = [{ \"name\" : \"Nandini\", \"age\" : 20}, \n",
    "{ \"name\" : \"Manjeet\", \"age\" : 20 },\n",
    "{ \"name\" : \"Nikhil\" , \"age\" : 19 }]\n",
    "  \n",
    "\n",
    "print(\"The list printed sorting by age: \")\n",
    "print(sorted(lis, key=itemgetter('age')))\n",
    "  \n",
    "print (\"\\r\")\n",
    "  \n",
    "\n",
    "print(\"The list printed sorting by age and name: \")\n",
    "print(sorted(lis, key=itemgetter('age', 'name')))\n",
    "  \n",
    "print (\"\\r\")"
   ]
  },
  {
   "cell_type": "code",
   "execution_count": 3,
   "id": "cfd79c2c",
   "metadata": {},
   "outputs": [
    {
     "name": "stdout",
     "output_type": "stream",
     "text": [
      "The list printed sorting by age: \n",
      "[{'name': 'Nikhil', 'age': 19}, {'name': 'Nandini', 'age': 20}, {'name': 'Manjeet', 'age': 20}]\n",
      "\r\n",
      "The list printed sorting by age and name: \n",
      "[{'name': 'Nikhil', 'age': 19}, {'name': 'Manjeet', 'age': 20}, {'name': 'Nandini', 'age': 20}]\n",
      "\r\n",
      "The list printed sorting by age in descending order: \n",
      "[{'name': 'Nandini', 'age': 20}, {'name': 'Manjeet', 'age': 20}, {'name': 'Nikhil', 'age': 19}]\n"
     ]
    }
   ],
   "source": [
    "#Q3\n",
    "lis = [{ \"name\" : \"Nandini\", \"age\" : 20},\n",
    "{ \"name\" : \"Manjeet\", \"age\" : 20 },\n",
    "{ \"name\" : \"Nikhil\" , \"age\" : 19 }]\n",
    " \n",
    "\n",
    "print(\"The list printed sorting by age: \")\n",
    "print(sorted(lis, key = lambda i: i['age']))\n",
    " \n",
    "print (\"\\r\")\n",
    " \n",
    "\n",
    "print(\"The list printed sorting by age and name: \")\n",
    "print(sorted(lis, key = lambda i: (i['age'], i['name'])))\n",
    " \n",
    "print (\"\\r\")\n",
    " \n",
    "\n",
    "print(\"The list printed sorting by age in descending order: \")\n",
    "print(sorted(lis, key = lambda i: i['age'],reverse=True))"
   ]
  },
  {
   "cell_type": "code",
   "execution_count": 4,
   "id": "cc0d0bc2",
   "metadata": {},
   "outputs": [
    {
     "name": "stdout",
     "output_type": "stream",
     "text": [
      "None\n",
      "{'d': 6, 'c': 4, 'a': 10, 'b': 8}\n"
     ]
    }
   ],
   "source": [
    "#Q4\n",
    "def Merge(dict1, dict2):\n",
    "    return(dict2.update(dict1))\n",
    "     \n",
    "\n",
    "dict1 = {'a': 10, 'b': 8}\n",
    "dict2 = {'d': 6, 'c': 4}\n",
    " \n",
    "\n",
    "print(Merge(dict1, dict2))\n",
    " \n",
    "\n",
    "print(dict2)"
   ]
  },
  {
   "cell_type": "code",
   "execution_count": 5,
   "id": "8c319933",
   "metadata": {},
   "outputs": [
    {
     "name": "stdout",
     "output_type": "stream",
     "text": [
      "The original dictionary is : {'month': [1, 2, 3], 'name': ['Jan', 'Feb', 'March']}\n",
      "Flattened dictionary : {1: 'Jan', 2: 'Feb', 3: 'March'}\n"
     ]
    }
   ],
   "source": [
    "#Q5\n",
    "from itertools import product\n",
    " \n",
    "test_dict = {'month' : [1, 2, 3],\n",
    "             'name' : ['Jan', 'Feb', 'March']}\n",
    "  \n",
    "print(\"The original dictionary is : \" + str(test_dict))\n",
    "  \n",
    "res = dict(zip(test_dict['month'], test_dict['name']))\n",
    "  \n",
    "# printing result \n",
    "print(\"Flattened dictionary : \" + str(res)) "
   ]
  },
  {
   "cell_type": "code",
   "execution_count": 6,
   "id": "a572be48",
   "metadata": {},
   "outputs": [
    {
     "name": "stdout",
     "output_type": "stream",
     "text": [
      "Resultant Dictionary : OrderedDict([('manjeet', '3'), ('akshat', '1'), ('nikhil', '2')])\n"
     ]
    }
   ],
   "source": [
    "#Q6\n",
    "from collections import OrderedDict\n",
    " \n",
    "\n",
    "iniordered_dict = OrderedDict([('akshat', '1'), ('nikhil', '2')])\n",
    " \n",
    "\n",
    "iniordered_dict.update({'manjeet':'3'})\n",
    "iniordered_dict.move_to_end('manjeet', last = False)\n",
    " \n",
    "\n",
    "print (\"Resultant Dictionary : \"+str(iniordered_dict))"
   ]
  },
  {
   "cell_type": "code",
   "execution_count": 7,
   "id": "ab364cad",
   "metadata": {},
   "outputs": [
    {
     "name": "stdout",
     "output_type": "stream",
     "text": [
      "true\n"
     ]
    }
   ],
   "source": [
    "#Q7\n",
    "from collections import OrderedDict \n",
    "  \n",
    "def checkOrder(input, pattern): \n",
    "      \n",
    "    \n",
    "    dict = OrderedDict.fromkeys(input) \n",
    "  \n",
    "    \n",
    "    ptrlen = 0\n",
    "    for key,value in dict.items(): \n",
    "        if (key == pattern[ptrlen]): \n",
    "            ptrlen = ptrlen + 1\n",
    "         \n",
    "        if (ptrlen == (len(pattern))): \n",
    "            return 'true'\n",
    "  \n",
    "   \n",
    "    return 'false'\n",
    "  \n",
    "\n",
    "if __name__ == \"__main__\": \n",
    "    input = 'engineers rock'\n",
    "    pattern = 'egr'\n",
    "    print (checkOrder(input,pattern)) "
   ]
  },
  {
   "cell_type": "code",
   "execution_count": 8,
   "id": "8a508da9",
   "metadata": {},
   "outputs": [
    {
     "name": "stdout",
     "output_type": "stream",
     "text": [
      "john\n"
     ]
    }
   ],
   "source": [
    "#Q8\n",
    "from collections import defaultdict\n",
    " \n",
    "def findWinner(votes):\n",
    " \n",
    "    \n",
    "    mapObj = defaultdict(int)\n",
    "     \n",
    "    for st in votes:\n",
    "        mapObj[st] += 1\n",
    " \n",
    "  \n",
    "    maxValueInMap = 0\n",
    "    winner = \"\"\n",
    "     \n",
    "    for entry in mapObj:\n",
    "        key = entry\n",
    "        val = mapObj[entry]\n",
    "         \n",
    "        if (val > maxValueInMap):\n",
    "            maxValueInMap = val\n",
    "            winner = key\n",
    " \n",
    "       \n",
    "        elif (val == maxValueInMap and\n",
    "              winner > key):\n",
    "            winner = key\n",
    " \n",
    "    print(winner)\n",
    " \n",
    "# Driver code\n",
    "if __name__ == \"__main__\":\n",
    " \n",
    "    votes = [ \"john\", \"johnny\", \"jackie\",\n",
    "              \"johnny\", \"john\", \"jackie\",\n",
    "              \"jamie\", \"jamie\", \"john\",\n",
    "              \"johnny\", \"jamie\", \"johnny\",\n",
    "              \"john\" ]\n",
    " \n",
    "    findWinner(votes)"
   ]
  },
  {
   "cell_type": "code",
   "execution_count": 9,
   "id": "50d61051",
   "metadata": {},
   "outputs": [
    {
     "name": "stdout",
     "output_type": "stream",
     "text": [
      "The original dictionary is : {'Himanshu': 1, 'is': 3, 'Best': 2}\n",
      "The ordered keys and values : ['Himanshu', 'is', 'Best', 1, 3, 2]\n"
     ]
    }
   ],
   "source": [
    "#Q9\n",
    "test_dict = {\"Himanshu\" : 1, \"is\" :  3, \"Best\" : 2}\n",
    "  \n",
    "\n",
    "print(\"The original dictionary is : \" + str(test_dict))\n",
    "  \n",
    "\n",
    "res = list(test_dict.keys()) + list(test_dict.values())\n",
    "  \n",
    "\n",
    "print(\"The ordered keys and values : \" + str(res))"
   ]
  },
  {
   "cell_type": "code",
   "execution_count": 10,
   "id": "0dcd4029",
   "metadata": {},
   "outputs": [
    {
     "name": "stdout",
     "output_type": "stream",
     "text": [
      "Task 1:-\n",
      "\n",
      "Keys are\n",
      "1 2 3 4 5 6 "
     ]
    }
   ],
   "source": [
    "#Q10\n",
    "def dictionairy():\n",
    "     \n",
    " key_value ={}   \n",
    " \n",
    "\n",
    " key_value[2] = 56      \n",
    " key_value[1] = 2\n",
    " key_value[5] = 12\n",
    " key_value[4] = 24\n",
    " key_value[6] = 18     \n",
    " key_value[3] = 323\n",
    " \n",
    " print (\"Task 1:-\\n\")\n",
    " print (\"Keys are\")\n",
    "  \n",
    "\n",
    " for i in sorted (key_value.keys()):\n",
    "     print(i, end = \" \")\n",
    " \n",
    "def main():\n",
    "   \n",
    "    dictionairy()            \n",
    "     \n",
    "\n",
    "if __name__==\"__main__\":     \n",
    "    main()"
   ]
  }
 ],
 "metadata": {
  "kernelspec": {
   "display_name": "Python 3",
   "language": "python",
   "name": "python3"
  },
  "language_info": {
   "codemirror_mode": {
    "name": "ipython",
    "version": 3
   },
   "file_extension": ".py",
   "mimetype": "text/x-python",
   "name": "python",
   "nbconvert_exporter": "python",
   "pygments_lexer": "ipython3",
   "version": "3.8.8"
  }
 },
 "nbformat": 4,
 "nbformat_minor": 5
}
