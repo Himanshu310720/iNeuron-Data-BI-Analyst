{
 "cells": [
  {
   "cell_type": "code",
   "execution_count": 1,
   "id": "b4033d89",
   "metadata": {},
   "outputs": [
    {
     "name": "stdout",
     "output_type": "stream",
     "text": [
      "Enter Starting Number: -5\n",
      "Enter Ending Number: 5\n",
      "-5 -4 -3 -2 -1 "
     ]
    }
   ],
   "source": [
    "#Q1\n",
    "start = int(input(\"Enter Starting Number: \"))\n",
    "End = int(input(\"Enter Ending Number: \"))\n",
    "\n",
    "for num in range(start,End+1):\n",
    "    if num < 0:\n",
    "        print(num, end = \" \")"
   ]
  },
  {
   "cell_type": "code",
   "execution_count": 2,
   "id": "abd783cb",
   "metadata": {},
   "outputs": [
    {
     "name": "stdout",
     "output_type": "stream",
     "text": [
      "New list after removing  [13, 18, 23]\n"
     ]
    }
   ],
   "source": [
    "#Q2\n",
    "list =  [12,13,56,18,23,50]\n",
    "\n",
    "for num in list:\n",
    "    if num % 2 == 0:\n",
    "        list.remove(num)\n",
    "\n",
    "print(\"New list after removing \",list)"
   ]
  },
  {
   "cell_type": "code",
   "execution_count": 3,
   "id": "6e45f4c4",
   "metadata": {},
   "outputs": [
    {
     "name": "stdout",
     "output_type": "stream",
     "text": [
      "List after empty list removal:[5, 6, 3, 6, 9]\n"
     ]
    }
   ],
   "source": [
    "#Q3\n",
    "list = [5,6,[],3,6,[],[],9]\n",
    "\n",
    "remove = [num for num in list if num != []]\n",
    "\n",
    "print(\"List after empty list removal:\" + str(remove))"
   ]
  },
  {
   "cell_type": "code",
   "execution_count": 4,
   "id": "b8c02b0e",
   "metadata": {},
   "outputs": [
    {
     "name": "stdout",
     "output_type": "stream",
     "text": [
      "Orginal List: [4, 7, 8, 99, 67, 86, 34, 66]\n",
      "After cloning: [4, 7, 8, 99, 67, 86, 34, 66]\n"
     ]
    }
   ],
   "source": [
    "#Q4\n",
    "def cloning(list):\n",
    "    list_copy = list[:]\n",
    "    return list\n",
    "\n",
    "list = [4,7,8,99,67,86,34,66]\n",
    "list1 = cloning(list)\n",
    "print(\"Orginal List:\", list)\n",
    "print(\"After cloning:\", list1)"
   ]
  },
  {
   "cell_type": "code",
   "execution_count": 5,
   "id": "0072273c",
   "metadata": {},
   "outputs": [
    {
     "name": "stdout",
     "output_type": "stream",
     "text": [
      "5\n"
     ]
    }
   ],
   "source": [
    "#Q5\n",
    "list = ['a','a','a','a','b','b','b','a']\n",
    "\n",
    "print(list.count('a'))"
   ]
  },
  {
   "cell_type": "code",
   "execution_count": 6,
   "id": "cfd7d0f3",
   "metadata": {},
   "outputs": [
    {
     "name": "stdout",
     "output_type": "stream",
     "text": [
      "[('ram', '15', '90'), ('', ''), ('Himanshu', 'kaskar')]\n"
     ]
    }
   ],
   "source": [
    "#Q6\n",
    "def remove(tuples):\n",
    "    tuples = [t for t in tuples if t]\n",
    "    return tuples\n",
    "\n",
    "tuples = [(),('ram','15','90'),(),('',''),(),('Himanshu','kaskar')]\n",
    "print(remove(tuples))"
   ]
  },
  {
   "cell_type": "code",
   "execution_count": 7,
   "id": "23cfc569",
   "metadata": {},
   "outputs": [
    {
     "name": "stdout",
     "output_type": "stream",
     "text": [
      "[10, 40, 50]\n"
     ]
    }
   ],
   "source": [
    "#Q7\n",
    "def repeat(x):\n",
    "    size = len(x)\n",
    "    repeated = []\n",
    "    for i in range(size):\n",
    "        k = i + 1\n",
    "        for j in range(k,size):\n",
    "            if x[i] == x[j] and x[i] not in repeated:\n",
    "                repeated.append(x[i])\n",
    "    return repeated\n",
    "\n",
    "list = [10,20,30,40,50,60,0,-20,2,50,40,10]\n",
    "print(repeat(list))"
   ]
  },
  {
   "cell_type": "code",
   "execution_count": 8,
   "id": "ada8e3a7",
   "metadata": {},
   "outputs": [
    {
     "name": "stdout",
     "output_type": "stream",
     "text": [
      "[10, 30, 60, 100, 150]\n"
     ]
    }
   ],
   "source": [
    "#Q8\n",
    "list = [10,20,30,40,50]\n",
    "new_list = []\n",
    "j = 0\n",
    "for i in range(0,len(list)):\n",
    "    j+= list[i]\n",
    "    new_list.append(j)\n",
    "\n",
    "print(new_list)"
   ]
  },
  {
   "cell_type": "code",
   "execution_count": 9,
   "id": "64807d1b",
   "metadata": {},
   "outputs": [
    {
     "name": "stdout",
     "output_type": "stream",
     "text": [
      "15\n"
     ]
    }
   ],
   "source": [
    "#Q9\n",
    "def getsum(n):\n",
    "    \n",
    "    sum = 0\n",
    "    for digit in str(n):\n",
    "        sum += int(digit)\n",
    "    return sum\n",
    "n = 12345\n",
    "print(getsum(n))"
   ]
  },
  {
   "cell_type": "code",
   "execution_count": 10,
   "id": "b1971597",
   "metadata": {},
   "outputs": [
    {
     "name": "stdout",
     "output_type": "stream",
     "text": [
      "[[12, 13, 56, 18], [23, 50]]\n"
     ]
    }
   ],
   "source": [
    "#Q10\n",
    "list =  [12,13,56,18,23,50]\n",
    "n = 4\n",
    "x = [list[i:i + n] for i in range(0,len(list),n)]\n",
    "print(x)"
   ]
  },
  {
   "cell_type": "code",
   "execution_count": 11,
   "id": "39b54c11",
   "metadata": {},
   "outputs": [
    {
     "name": "stdout",
     "output_type": "stream",
     "text": [
      "['a', 'd', 'f', 'h', 'i', 'b', 'c', 'e', 'g']\n"
     ]
    }
   ],
   "source": [
    "#Q11\n",
    "def sort_list(list1,list2):\n",
    "    zipped = zip(list2,list1)\n",
    "    z = [x for _, x in sorted(zipped)]\n",
    "    return z\n",
    "    \n",
    "x = ['a','b','c','d','e','f','g','h','i',]\n",
    "y = [ 0,   1,  1,  0,  1,  0, 1,  0,  0]\n",
    "\n",
    "print(sort_list(x,y))"
   ]
  }
 ],
 "metadata": {
  "kernelspec": {
   "display_name": "Python 3",
   "language": "python",
   "name": "python3"
  },
  "language_info": {
   "codemirror_mode": {
    "name": "ipython",
    "version": 3
   },
   "file_extension": ".py",
   "mimetype": "text/x-python",
   "name": "python",
   "nbconvert_exporter": "python",
   "pygments_lexer": "ipython3",
   "version": "3.8.8"
  }
 },
 "nbformat": 4,
 "nbformat_minor": 5
}
