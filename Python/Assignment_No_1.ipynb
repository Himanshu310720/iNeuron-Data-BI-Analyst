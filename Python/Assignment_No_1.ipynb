{
 "cells": [
  {
   "cell_type": "markdown",
   "id": "21bcfd15",
   "metadata": {},
   "source": [
    "# Assigment No:-1"
   ]
  },
  {
   "cell_type": "markdown",
   "id": "bc2587ef",
   "metadata": {},
   "source": [
    "Question No:-1"
   ]
  },
  {
   "cell_type": "code",
   "execution_count": 1,
   "id": "8310e7f6",
   "metadata": {},
   "outputs": [
    {
     "name": "stdout",
     "output_type": "stream",
     "text": [
      "Number Divisble by 7 and multiple 0f 5 are :\n",
      "1505,1540,1575,1610,1645,1680,1715,1750,1785,1820,1855,1890,1925,1960,1995,2030,2065,2100,2135,2170,2205,2240,2275,2310,2345,2380,2415,2450,2485,2520,2555,2590,2625,2660,2695\n"
     ]
    }
   ],
   "source": [
    "list=[]\n",
    "\n",
    "for x in range(1500,2701):\n",
    "    if (x%7==0) and (x%5==0):\n",
    "         list.append(str(x))\n",
    "\n",
    "print(\"Number Divisble by 7 and multiple 0f 5 are :\\n\"+\",\".join(list))\n",
    "    "
   ]
  },
  {
   "cell_type": "markdown",
   "id": "95855a53",
   "metadata": {},
   "source": [
    "Question No:-2"
   ]
  },
  {
   "cell_type": "code",
   "execution_count": 2,
   "id": "9a34ea15",
   "metadata": {},
   "outputs": [
    {
     "name": "stdout",
     "output_type": "stream",
     "text": [
      "Enter First Number:10\n",
      "Enter Second Number:20\n",
      "Addition of Two Number Are: 30\n"
     ]
    }
   ],
   "source": [
    "a = int(input(\"Enter First Number:\"))\n",
    "b = int(input(\"Enter Second Number:\"))\n",
    "#addition\n",
    "c = a+b\n",
    "print(\"Addition of Two Number Are:\",c)"
   ]
  },
  {
   "cell_type": "markdown",
   "id": "bbdabede",
   "metadata": {},
   "source": [
    "Question No:-3"
   ]
  },
  {
   "cell_type": "code",
   "execution_count": 3,
   "id": "29329d9d",
   "metadata": {},
   "outputs": [
    {
     "name": "stdout",
     "output_type": "stream",
     "text": [
      "Enter First Number:13\n",
      "Enter Second Number:13\n",
      "13 is equal to 13\n"
     ]
    }
   ],
   "source": [
    "a = int(input(\"Enter First Number:\"))\n",
    "b = int(input(\"Enter Second Number:\"))\n",
    "\n",
    "if a>b:\n",
    "    print(a,\"Greater Than \",b)\n",
    "elif a==b:\n",
    "    print(a, \"is equal to\" ,b)\n",
    "else:\n",
    "    print(b,\"Greater Than\",a)\n"
   ]
  },
  {
   "cell_type": "markdown",
   "id": "7d10fcea",
   "metadata": {},
   "source": [
    "Question No:-4"
   ]
  },
  {
   "cell_type": "code",
   "execution_count": 4,
   "id": "5695b1bf",
   "metadata": {},
   "outputs": [
    {
     "name": "stdout",
     "output_type": "stream",
     "text": [
      "Enter Number:5\n",
      "The Factorial of 5 is 120\n"
     ]
    }
   ],
   "source": [
    "a = int(input(\"Enter Number:\"))\n",
    "fact = 1\n",
    "if a < 0:\n",
    "    print(\"Sorry Factorial does not exists for negative number\")\n",
    "elif (a==0) or (a==1):\n",
    "     print(\"The factorial is 1\")\n",
    "else:\n",
    "    for i in range(1,a+1):\n",
    "        fact = fact * i\n",
    "    print(\"The Factorial of\",a,\"is\",fact)"
   ]
  },
  {
   "cell_type": "markdown",
   "id": "fc357ed9",
   "metadata": {},
   "source": [
    "Question No:-5"
   ]
  },
  {
   "cell_type": "code",
   "execution_count": 5,
   "id": "ac791343",
   "metadata": {},
   "outputs": [
    {
     "name": "stdout",
     "output_type": "stream",
     "text": [
      "Enter Principal amount:10000\n",
      "Enter Rate :10\n",
      "Enter Time in Year:5\n",
      "simple interest is: 5000.0\n"
     ]
    }
   ],
   "source": [
    "def simple_interest(p,r,t):\n",
    "    amount = (p*r*t)/100\n",
    "    si = p - amount\n",
    "    print(\"simple interest is:\",si)\n",
    "\n",
    "    \n",
    "p = int(input(\"Enter Principal amount:\"))\n",
    "r = int(input(\"Enter Rate :\"))\n",
    "t = int(input(\"Enter Time in Year:\"))\n",
    "simple_interest(p,r,t)"
   ]
  },
  {
   "cell_type": "markdown",
   "id": "f426ff9f",
   "metadata": {},
   "source": [
    "Question No:-6"
   ]
  },
  {
   "cell_type": "code",
   "execution_count": 6,
   "id": "5be53b08",
   "metadata": {},
   "outputs": [
    {
     "name": "stdout",
     "output_type": "stream",
     "text": [
      "Enter Principal amount:10000\n",
      "Enter Rate :10\n",
      "Enter Time in Year:5\n",
      "Compound interest is: 6105.100000000006\n"
     ]
    }
   ],
   "source": [
    "def compound_interest(p,r,t):\n",
    "    amount = p*(pow((1+r/100),t))\n",
    "    ci = amount - p\n",
    "    print(\"Compound interest is:\",ci)\n",
    "\n",
    "    \n",
    "p = int(input(\"Enter Principal amount:\"))\n",
    "r = int(input(\"Enter Rate :\"))\n",
    "t = int(input(\"Enter Time in Year:\"))\n",
    "compound_interest(p,r,t)"
   ]
  },
  {
   "cell_type": "markdown",
   "id": "33056d91",
   "metadata": {},
   "source": [
    "Question No:-7"
   ]
  },
  {
   "cell_type": "code",
   "execution_count": 7,
   "id": "c5053388",
   "metadata": {},
   "outputs": [
    {
     "name": "stdout",
     "output_type": "stream",
     "text": [
      "Enter Number:347\n",
      "347 is not an Anstrong Number\n"
     ]
    }
   ],
   "source": [
    "num = int(input(\"Enter Number:\"))\n",
    "sum = 0\n",
    "temp = num\n",
    "\n",
    "while temp > 0:\n",
    "    digit = temp%10\n",
    "    sum+=digit**3\n",
    "    temp//=10\n",
    "    \n",
    "    \n",
    "if num == sum:\n",
    "    print(num,\"is an Anstrong Number\")\n",
    "else:\n",
    "    print(num,\"is not an Anstrong Number\")"
   ]
  },
  {
   "cell_type": "markdown",
   "id": "4714e28b",
   "metadata": {},
   "source": [
    "Question No:-8"
   ]
  },
  {
   "cell_type": "code",
   "execution_count": 8,
   "id": "54b6a5bb",
   "metadata": {},
   "outputs": [
    {
     "name": "stdout",
     "output_type": "stream",
     "text": [
      "Enter radius of circle:5\n",
      "Area of a Circle is: 78.5 Squre\n"
     ]
    }
   ],
   "source": [
    "a = float(input(\"Enter radius of circle:\"))\n",
    "pi = 3.14\n",
    "area = pi*a*a\n",
    "print(\"Area of a Circle is:\",area,\"Squre\")"
   ]
  },
  {
   "cell_type": "markdown",
   "id": "044852cc",
   "metadata": {},
   "source": [
    "Question No:-9"
   ]
  },
  {
   "cell_type": "code",
   "execution_count": 9,
   "id": "2edf7998",
   "metadata": {},
   "outputs": [
    {
     "name": "stdout",
     "output_type": "stream",
     "text": [
      "First  lower Interval:900\n",
      "Second upper Interval:1000\n",
      "Prime number between 900 and 1000 are:\n",
      "907\n",
      "911\n",
      "919\n",
      "929\n",
      "937\n",
      "941\n",
      "947\n",
      "953\n",
      "967\n",
      "971\n",
      "977\n",
      "983\n",
      "991\n",
      "997\n"
     ]
    }
   ],
   "source": [
    "lower =int(input(\"First  lower Interval:\"))\n",
    "upper =int(input(\"Second upper Interval:\")) \n",
    "\n",
    "print(\"Prime number between\",lower,\"and\",upper,\"are:\")\n",
    "for num in range(lower,upper+1):\n",
    "    if num > 1:\n",
    "        for i in range(2,num):\n",
    "            if (num % i) == 0:\n",
    "                break\n",
    "        else:\n",
    "             print(num)               "
   ]
  },
  {
   "cell_type": "markdown",
   "id": "7aa19670",
   "metadata": {},
   "source": [
    "Question No:-10"
   ]
  },
  {
   "cell_type": "code",
   "execution_count": 10,
   "id": "c3a4ba6d",
   "metadata": {},
   "outputs": [
    {
     "name": "stdout",
     "output_type": "stream",
     "text": [
      "Enter Number:29\n",
      "29 is a prime number\n"
     ]
    }
   ],
   "source": [
    "a = int(input(\"Enter Number:\"))\n",
    "flag = False\n",
    "if a > 1:\n",
    "    for i in range(2,a):\n",
    "        if a % i == 0:\n",
    "            flag = True\n",
    "            break\n",
    "            \n",
    "if flag:\n",
    "    print(a,\"is not a prime number\")\n",
    "else:\n",
    "    print(a,\"is a prime number\")"
   ]
  },
  {
   "cell_type": "code",
   "execution_count": null,
   "id": "524fb83a",
   "metadata": {},
   "outputs": [],
   "source": []
  }
 ],
 "metadata": {
  "kernelspec": {
   "display_name": "Python 3",
   "language": "python",
   "name": "python3"
  },
  "language_info": {
   "codemirror_mode": {
    "name": "ipython",
    "version": 3
   },
   "file_extension": ".py",
   "mimetype": "text/x-python",
   "name": "python",
   "nbconvert_exporter": "python",
   "pygments_lexer": "ipython3",
   "version": "3.8.8"
  }
 },
 "nbformat": 4,
 "nbformat_minor": 5
}
