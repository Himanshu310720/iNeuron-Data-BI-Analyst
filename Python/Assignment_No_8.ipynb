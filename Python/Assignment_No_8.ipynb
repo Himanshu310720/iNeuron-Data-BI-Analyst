{
 "cells": [
  {
   "cell_type": "code",
   "execution_count": 1,
   "id": "6c3cfea2",
   "metadata": {},
   "outputs": [
    {
     "name": "stdout",
     "output_type": "stream",
     "text": [
      "The original string is : Hianshukaskar\n",
      "The minimum of all characters in GeeksforGeeks is : H\n"
     ]
    }
   ],
   "source": [
    "#Q1\n",
    "test_str = \"Hianshukaskar\"\n",
    "  \n",
    "\n",
    "print (\"The original string is : \" + test_str)\n",
    "\n",
    "all_freq = {}\n",
    "for i in test_str:\n",
    "    if i in all_freq:\n",
    "        all_freq[i] += 1\n",
    "    else:\n",
    "        all_freq[i] = 1\n",
    "res = min(all_freq, key = all_freq.get) \n",
    "  \n",
    "print (\"The minimum of all characters in GeeksforGeeks is : \" + str(res))"
   ]
  },
  {
   "cell_type": "code",
   "execution_count": 2,
   "id": "b303c581",
   "metadata": {},
   "outputs": [
    {
     "name": "stdout",
     "output_type": "stream",
     "text": [
      "The original string is : HimanshuKaskar\n",
      "The maximum of all characters in GeeksforGeeks is : a\n"
     ]
    }
   ],
   "source": [
    "#Q2\n",
    "test_str = \"HimanshuKaskar\"\n",
    "\n",
    "print (\"The original string is : \" + test_str)\n",
    "  \n",
    "\n",
    "all_freq = {}\n",
    "for i in test_str:\n",
    "    if i in all_freq:\n",
    "        all_freq[i] += 1\n",
    "    else:\n",
    "        all_freq[i] = 1\n",
    "res = max(all_freq, key = all_freq.get) \n",
    "  \n",
    "print (\"The maximum of all characters in GeeksforGeeks is : \" + str(res))"
   ]
  },
  {
   "cell_type": "code",
   "execution_count": 3,
   "id": "29388d3c",
   "metadata": {},
   "outputs": [
    {
     "name": "stdout",
     "output_type": "stream",
     "text": [
      "String is accepted\n"
     ]
    }
   ],
   "source": [
    "#Q3\n",
    "import re\n",
    "  \n",
    "def run(string):\n",
    "  \n",
    "    regex = re.compile('[@_!#$%^&*()<>?/\\|}{~:]')\n",
    "      \n",
    "        \n",
    "    if(regex.search(string) == None):\n",
    "        print(\"String is accepted\")\n",
    "          \n",
    "    else:\n",
    "        print(\"String is not accepted.\")\n",
    "if __name__ == '__main__' :\n",
    "    \n",
    "    string = \"Rutrimanshar\"\n",
    "    run(string)"
   ]
  },
  {
   "cell_type": "code",
   "execution_count": 4,
   "id": "4323b926",
   "metadata": {},
   "outputs": [
    {
     "name": "stdout",
     "output_type": "stream",
     "text": [
      "tB;?H\n",
      "tW7ag\n",
      "wdGa:\n",
      "Uzqal\n",
      "I Uac\n",
      "nwlap\n",
      " XIaN\n",
      "OUFa0\n",
      "9Z2aT\n",
      "350aY\n",
      ",QOaL\n",
      "E0hae\n",
      "MHRaj\n",
      "Olhap\n",
      "wvraw\n",
      "PwTaC\n",
      "46Aar\n",
      "Fn.aD\n",
      "PrPaY\n",
      "0yUap\n",
      ".SWa!\n",
      "QFGau\n",
      "YkOa9\n",
      "eFear\n",
      "zOmaq\n",
      "hrmam\n",
      "NtmaP\n",
      "q5ma.\n",
      "Ejmaa\n",
      "qHmaj\n",
      "fUmaS\n",
      "hEmaY\n",
      "tQma:\n",
      "7cmaL\n",
      "Xama2\n",
      "rUmaq\n",
      "SBma8\n",
      "AdmaG\n",
      "P7ma5\n",
      "KAmay\n",
      "IrmaA\n",
      "JJmaP\n",
      "B7ma7\n",
      " lmaA\n",
      "ETma,\n",
      "LRmaH\n",
      "3Dmac\n",
      "1.maE\n",
      ":8mav\n",
      ";Vmar\n",
      "qimaU\n",
      "Bimac\n",
      "OimaM\n",
      "Iima?\n",
      "Mima.\n",
      "Mima \n",
      "rimaa\n",
      "mima2\n",
      "pima2\n",
      "Iima9\n",
      "2ima4\n",
      "fimah\n",
      " imam\n",
      "jimaj\n",
      "IimaG\n",
      "Iima5\n",
      ",ima8\n",
      "1imab\n",
      "AimaU\n",
      "eima \n",
      "nimaX\n",
      "Lima3\n",
      "kimao\n",
      "bimaD\n",
      "Rimag\n",
      "WimaU\n",
      "BimaQ\n",
      "Iima5\n",
      "8ima;\n",
      "tima9\n",
      "Himac\n",
      "HimaB\n",
      "Himav\n",
      "HimaV\n",
      "Hima5\n",
      "HimaE\n",
      "Hima3\n",
      "HimaB\n",
      "Hima6\n",
      "Hima \n",
      "Hima3\n",
      "HimaO\n",
      "Himag\n",
      "Hima,\n",
      "HimaI\n",
      "HimaF\n",
      "Hima8\n",
      "HimaB\n",
      "HimaV\n",
      "Himaz\n",
      "HimaP\n",
      "HimaC\n",
      "Himah\n",
      "Himam\n",
      "HimaV\n",
      "HimaU\n",
      "Himan\n",
      "Target matched after 107 iterations\n"
     ]
    }
   ],
   "source": [
    "#Q4\n",
    "import string\n",
    "import random\n",
    "import time\n",
    "  \n",
    "\n",
    "possibleCharacters = string.ascii_lowercase + string.digits + string.ascii_uppercase + ' ., !?;:'\n",
    "  \n",
    "\n",
    "t = \"Himan\"\n",
    "  \n",
    "\n",
    "  \n",
    "attemptThis = ''.join(random.choice(possibleCharacters)\n",
    "                                for i in range(len(t)))\n",
    "attemptNext = ''\n",
    "  \n",
    "completed = False\n",
    "iteration = 0\n",
    "  \n",
    "\n",
    "while completed == False:\n",
    "    print(attemptThis)\n",
    "      \n",
    "    attemptNext = ''\n",
    "    completed = True\n",
    "      \n",
    "    \n",
    "    for i in range(len(t)):\n",
    "        if attemptThis[i] != t[i]:\n",
    "            completed = False\n",
    "            attemptNext += random.choice(possibleCharacters)\n",
    "        else:\n",
    "            attemptNext += t[i]\n",
    "              \n",
    "    iteration += 1\n",
    "    attemptThis = attemptNext\n",
    "    time.sleep(0.1)\n",
    "  \n",
    "\n",
    "print(\"Target matched after \" +str(iteration) + \" iterations\")"
   ]
  },
  {
   "cell_type": "code",
   "execution_count": 5,
   "id": "3315f5bf",
   "metadata": {},
   "outputs": [
    {
     "name": "stdout",
     "output_type": "stream",
     "text": [
      "['Himanshu', 'Kaskar']\n"
     ]
    }
   ],
   "source": [
    "#Q5\n",
    "def string_k(k, str):\n",
    "     \n",
    "    string = []\n",
    "     \n",
    "    text = str.split(\" \")\n",
    "     \n",
    "    for x in text:\n",
    "         \n",
    "        if len(x) > k:\n",
    "            string.append(x)\n",
    "             \n",
    "    return string\n",
    " \n",
    " \n",
    "   \n",
    "k = 5\n",
    "str =\"Himanshu Ashok Kaskar\"\n",
    "print(string_k(k, str))"
   ]
  },
  {
   "cell_type": "code",
   "execution_count": 6,
   "id": "bd78a7db",
   "metadata": {},
   "outputs": [
    {
     "name": "stdout",
     "output_type": "stream",
     "text": [
      "HimanhuBAD\n"
     ]
    }
   ],
   "source": [
    "#Q6\n",
    "def remove(string, i): \n",
    "\n",
    "    a = string[ : i] \n",
    "      \n",
    "    b = string[i + 1: ]\n",
    "      \n",
    "    return a + b\n",
    "\n",
    "if __name__ == '__main__':\n",
    "      \n",
    "    string = \"HimanshuBAD\"\n",
    "\n",
    "    i = 5\n",
    "    print(remove(string, i))"
   ]
  },
  {
   "cell_type": "code",
   "execution_count": 7,
   "id": "a6cd8579",
   "metadata": {},
   "outputs": [
    {
     "name": "stdout",
     "output_type": "stream",
     "text": [
      "Enter first String with space:python program\n",
      "['python', 'program']\n",
      "Enter second String with:python,program\n",
      "['python', 'program']\n",
      "Enter third String with:python:program\n",
      "['python', 'program']\n",
      "Enter fourth String with:python;program\n",
      "['python', 'program']\n",
      "Enter fifth String without space:python program\n",
      "['py', 'th', 'on', ' p', 'ro', 'gr', 'am']\n"
     ]
    }
   ],
   "source": [
    "#Q7\n",
    "str1=input(\"Enter first String with space:\")\n",
    "print(str1.split())\n",
    "\n",
    "str2=input(\"Enter second String with:\")\n",
    "print(str2.split(','))    \n",
    "\n",
    "str3=input(\"Enter third String with:\")\n",
    "print(str3.split(':'))    \n",
    "\n",
    "str4=input(\"Enter fourth String with:\")\n",
    "print(str4.split(';'))    \n",
    "\n",
    "str5=input(\"Enter fifth String without space:\")\n",
    "print([str5[i:i+2]for i in range(0,len(str5),2)]) "
   ]
  },
  {
   "cell_type": "code",
   "execution_count": 8,
   "id": "71b88d69",
   "metadata": {},
   "outputs": [
    {
     "name": "stdout",
     "output_type": "stream",
     "text": [
      "StringA is a binary string.\n",
      "StringB is not a binary string.\n"
     ]
    }
   ],
   "source": [
    "#Q8\n",
    "stringA = '0110101010111'\n",
    "b = {'0','1'}\n",
    "t = set(stringA)\n",
    "\n",
    "if b == t or t == {'0'} or t == {'1'}:\n",
    "    print(\"StringA is a binary string.\")\n",
    "else:\n",
    "    print(\"StringA is not a binary string.\")\n",
    "\n",
    "stringB = '0120101010111'\n",
    "u = set(stringB)\n",
    "\n",
    "if b == u or u == {'0'} or u == {'1'}:\n",
    "    print(\"StringB is a binary string.\")\n",
    "else:\n",
    "    print(\"StringB is not a binary string.\")"
   ]
  },
  {
   "cell_type": "code",
   "execution_count": 9,
   "id": "5d8a97ad",
   "metadata": {},
   "outputs": [
    {
     "name": "stdout",
     "output_type": "stream",
     "text": [
      "['Himanshu', 'is', 'best', 'Best', 'to', 'learn', 'from', 'ineuron']\n"
     ]
    }
   ],
   "source": [
    "#Q9\n",
    "def UncommonWords(A, B):\n",
    "  \n",
    "    count = {}\n",
    "      \n",
    "    for word in A.split():\n",
    "        count[word] = count.get(word, 0) + 1\n",
    "      \n",
    "    for word in B.split():\n",
    "        count[word] = count.get(word, 0) + 1\n",
    "  \n",
    "    return [word for word in count if count[word] == 1]\n",
    "  \n",
    "A = \"Himanshu is best \"\n",
    "B = \"Best to learn from ineuron\"\n",
    "  \n",
    "print(UncommonWords(A, B))"
   ]
  },
  {
   "cell_type": "code",
   "execution_count": 10,
   "id": "26f0b8e5",
   "metadata": {},
   "outputs": [
    {
     "name": "stdout",
     "output_type": "stream",
     "text": [
      "The string is : \n",
      "Jane is the best . Jane loves to cook. Jane and Will cook together\n",
      "The string after replacing with values is : \n",
      "Jane is the best . She loves to cook. She and Will cook together\n"
     ]
    }
   ],
   "source": [
    "#Q10\n",
    "my_str = 'Jane is the best . Jane loves to cook. Jane and Will cook together'\n",
    "print(\"The string is : \")\n",
    "print(my_str)\n",
    "replace_dict = {'Jane' : 'She' }\n",
    "my_list = my_str.split(' ')\n",
    "my_result = ' '.join([replace_dict.get(val) if val in replace_dict.keys() and my_list.index(val) != idx else val for idx, val in enumerate(my_list)])\n",
    "print(\"The string after replacing with values is : \")\n",
    "print(my_result)"
   ]
  }
 ],
 "metadata": {
  "kernelspec": {
   "display_name": "Python 3",
   "language": "python",
   "name": "python3"
  },
  "language_info": {
   "codemirror_mode": {
    "name": "ipython",
    "version": 3
   },
   "file_extension": ".py",
   "mimetype": "text/x-python",
   "name": "python",
   "nbconvert_exporter": "python",
   "pygments_lexer": "ipython3",
   "version": "3.8.8"
  }
 },
 "nbformat": 4,
 "nbformat_minor": 5
}
