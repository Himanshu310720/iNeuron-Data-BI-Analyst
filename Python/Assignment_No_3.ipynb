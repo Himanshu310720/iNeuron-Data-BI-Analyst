{
 "cells": [
  {
   "cell_type": "code",
   "execution_count": 1,
   "id": "54e58a45",
   "metadata": {},
   "outputs": [],
   "source": [
    "#Q1."
   ]
  },
  {
   "cell_type": "code",
   "execution_count": 2,
   "id": "0e6ade9d",
   "metadata": {},
   "outputs": [
    {
     "name": "stdout",
     "output_type": "stream",
     "text": [
      "9\n"
     ]
    }
   ],
   "source": [
    "def find_reminder(arr,lens,n):\n",
    "    mul =  1\n",
    "    for i in range(lens):\n",
    "        mul = (mul * (arr[i] % n)) % n\n",
    "    \n",
    "    return mul % n\n",
    "\n",
    "arr = [100,10,5,25,35,14]\n",
    "lens = len(arr)\n",
    "n = 11\n",
    "\n",
    "print(find_reminder(arr,lens,n))"
   ]
  },
  {
   "cell_type": "code",
   "execution_count": 3,
   "id": "7d4e4ee8",
   "metadata": {},
   "outputs": [],
   "source": [
    "#Q2."
   ]
  },
  {
   "cell_type": "code",
   "execution_count": 4,
   "id": "c59507fd",
   "metadata": {},
   "outputs": [
    {
     "name": "stdout",
     "output_type": "stream",
     "text": [
      "True\n",
      "False\n",
      "True\n",
      "True\n"
     ]
    }
   ],
   "source": [
    "def ismonotone(a):\n",
    "    n = len(a)\n",
    "    if n==1:\n",
    "        return True\n",
    "    else:\n",
    "        \n",
    "        if all(a[i]>=a[i+1] for i in range(0,n-1) or a[i]<=a[i+1] for i in range(0,n-1)):\n",
    "            return True\n",
    "        else:\n",
    "            return False\n",
    "A = [6,5,4,2]\n",
    "print(ismonotone(A))\n",
    "B = [6,2,4,2]\n",
    "print(ismonotone(B))\n",
    "C = [4,3,2]\n",
    "print(ismonotone(C))\n",
    "D = [1]\n",
    "print(ismonotone(D))"
   ]
  },
  {
   "cell_type": "code",
   "execution_count": 5,
   "id": "15e34ac6",
   "metadata": {},
   "outputs": [],
   "source": [
    "#Q3."
   ]
  },
  {
   "cell_type": "code",
   "execution_count": 6,
   "id": "2d0a992a",
   "metadata": {},
   "outputs": [
    {
     "name": "stdout",
     "output_type": "stream",
     "text": [
      "[10, 14, 5, 9, 56, 12]\n",
      "Swapped List: [12, 14, 5, 9, 56, 10]\n"
     ]
    }
   ],
   "source": [
    "def swaplist(sl):\n",
    "    n = len(sl)\n",
    "    \n",
    "    temp = sl[0]\n",
    "    sl[0] = sl[n-1]\n",
    "    sl[n-1] = temp\n",
    "    \n",
    "    return sl\n",
    "\n",
    "l = [10, 14,5, 9,56,12]\n",
    "print(l)\n",
    "print(\"Swapped List:\",swaplist(l))"
   ]
  },
  {
   "cell_type": "code",
   "execution_count": 7,
   "id": "f1797deb",
   "metadata": {},
   "outputs": [],
   "source": [
    "#Q4."
   ]
  },
  {
   "cell_type": "code",
   "execution_count": 8,
   "id": "3da81f9b",
   "metadata": {},
   "outputs": [
    {
     "name": "stdout",
     "output_type": "stream",
     "text": [
      "[10, 65, 23, 90]\n"
     ]
    }
   ],
   "source": [
    "def swapPosition(list,pos1,pos2):\n",
    "    list[pos1],list[pos2] = list[pos2],list[pos1]\n",
    "    return list\n",
    "\n",
    "list = [23,65,10,90]\n",
    "pos1,pos2 = 1,3\n",
    "\n",
    "print(swapPosition(list,pos1-1,pos2-1))"
   ]
  },
  {
   "cell_type": "code",
   "execution_count": 9,
   "id": "34f05233",
   "metadata": {},
   "outputs": [],
   "source": [
    "#Q5."
   ]
  },
  {
   "cell_type": "code",
   "execution_count": 10,
   "id": "b2e3415e",
   "metadata": {},
   "outputs": [
    {
     "name": "stdout",
     "output_type": "stream",
     "text": [
      "the list is:[1, 2, 3, 4, 6, 7]\n",
      "Length Of list Using Naive method is :6\n"
     ]
    }
   ],
   "source": [
    "list = [1,2,3,4,6,7]\n",
    "\n",
    "print(\"the list is:\"+ str(list))\n",
    "\n",
    "counter = 0\n",
    "for i in list:\n",
    "    counter = counter + 1\n",
    "\n",
    "print(\"Length Of list Using Naive method is :\" + str(counter))\n",
    "\n"
   ]
  },
  {
   "cell_type": "code",
   "execution_count": 11,
   "id": "386d6784",
   "metadata": {},
   "outputs": [],
   "source": [
    "#Q6."
   ]
  },
  {
   "cell_type": "code",
   "execution_count": 12,
   "id": "cfe521d2",
   "metadata": {},
   "outputs": [
    {
     "name": "stdout",
     "output_type": "stream",
     "text": [
      "Our List: ['a', 'b', 'c', 'd']\n",
      "b is present in the list\n"
     ]
    }
   ],
   "source": [
    "list = ['a','b','c','d']\n",
    "print(\"Our List:\",list)\n",
    "find = 'b'\n",
    "\n",
    "if find in list:\n",
    "    print(find,'is present in the list')\n",
    "else:\n",
    "    print(find,'is not present in the list')"
   ]
  },
  {
   "cell_type": "code",
   "execution_count": 13,
   "id": "4ce4f4c7",
   "metadata": {},
   "outputs": [],
   "source": [
    "#Q7."
   ]
  },
  {
   "cell_type": "code",
   "execution_count": 14,
   "id": "5db42d73",
   "metadata": {},
   "outputs": [
    {
     "name": "stdout",
     "output_type": "stream",
     "text": [
      "list Before clear: ['a', 'b', 'c', 'G']\n",
      "list after clear: []\n"
     ]
    }
   ],
   "source": [
    "list =  ['a','b','c','G']\n",
    "print(\"list Before clear:\",list)\n",
    "list.clear()\n",
    "print(\"list after clear:\",list)\n"
   ]
  },
  {
   "cell_type": "code",
   "execution_count": 15,
   "id": "5e5f6585",
   "metadata": {},
   "outputs": [],
   "source": [
    "#Q8."
   ]
  },
  {
   "cell_type": "code",
   "execution_count": 16,
   "id": "e7340974",
   "metadata": {},
   "outputs": [
    {
     "name": "stdout",
     "output_type": "stream",
     "text": [
      "List Before Reverse: ['a', 'b', 'c', 'G']\n",
      "List After Reverse: ['G', 'c', 'b', 'a']\n"
     ]
    }
   ],
   "source": [
    "list1 =['a','b','c','G']\n",
    "\n",
    "print(\"List Before Reverse:\",list1)\n",
    "\n",
    "list1.reverse()\n",
    "\n",
    "print(\"List After Reverse:\",list1)\n"
   ]
  },
  {
   "cell_type": "code",
   "execution_count": 17,
   "id": "9d4756b1",
   "metadata": {},
   "outputs": [],
   "source": [
    "#Q9."
   ]
  },
  {
   "cell_type": "code",
   "execution_count": 18,
   "id": "25233a63",
   "metadata": {},
   "outputs": [
    {
     "name": "stdout",
     "output_type": "stream",
     "text": [
      "Sum of all elements in given : 74\n"
     ]
    }
   ],
   "source": [
    "total = 0\n",
    "l\n",
    "lsit = [11,5,17,18,23]\n",
    "\n",
    "for element in range(0,len(lsit)):\n",
    "    total = total + lsit[element]\n",
    "    \n",
    "print(\"Sum of all elements in given :\", total)"
   ]
  },
  {
   "cell_type": "code",
   "execution_count": 19,
   "id": "dcc6150c",
   "metadata": {},
   "outputs": [],
   "source": [
    "#Q10."
   ]
  },
  {
   "cell_type": "code",
   "execution_count": 20,
   "id": "168c5476",
   "metadata": {},
   "outputs": [
    {
     "name": "stdout",
     "output_type": "stream",
     "text": [
      "6\n",
      "24\n"
     ]
    }
   ],
   "source": [
    "def multiplylist(mylist):\n",
    "    \n",
    "    result = 1\n",
    "    for x in mylist:\n",
    "        result = result * x\n",
    "    return result\n",
    "\n",
    "list1 = [1,2,3]\n",
    "list2 = [3,2,4]\n",
    "print(multiplylist(list1))\n",
    "print(multiplylist(list2))"
   ]
  }
 ],
 "metadata": {
  "kernelspec": {
   "display_name": "Python 3",
   "language": "python",
   "name": "python3"
  },
  "language_info": {
   "codemirror_mode": {
    "name": "ipython",
    "version": 3
   },
   "file_extension": ".py",
   "mimetype": "text/x-python",
   "name": "python",
   "nbconvert_exporter": "python",
   "pygments_lexer": "ipython3",
   "version": "3.8.8"
  }
 },
 "nbformat": 4,
 "nbformat_minor": 5
}
