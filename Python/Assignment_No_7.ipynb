{
 "cells": [
  {
   "cell_type": "code",
   "execution_count": 1,
   "id": "9ea1de74",
   "metadata": {},
   "outputs": [
    {
     "name": "stdout",
     "output_type": "stream",
     "text": [
      "Kaskar Himanshu\n"
     ]
    }
   ],
   "source": [
    "#Q1\n",
    "def rev_string(sentence):\n",
    "    words = sentence.split(' ')\n",
    "    \n",
    "    reverse = ' '.join(reversed(words))\n",
    "    return reverse\n",
    "\n",
    "if __name__ == '__main__':\n",
    "    input = 'Himanshu Kaskar'\n",
    "    print(rev_string(input))"
   ]
  },
  {
   "cell_type": "code",
   "execution_count": 2,
   "id": "f7cf1d73",
   "metadata": {},
   "outputs": [
    {
     "name": "stdout",
     "output_type": "stream",
     "text": [
      "The Original string is: Himanshu kaskar\n",
      "the string after removal of i'th charatcter : Hianshu kaskar\n"
     ]
    }
   ],
   "source": [
    "#Q2\n",
    "test = 'Himanshu kaskar'\n",
    "\n",
    "print(\"The Original string is: \" + test)\n",
    "new = \"\"\n",
    "for i in range(len(test)):\n",
    "    if i != 2:\n",
    "        new = new + test[i]\n",
    "\n",
    "print(\"the string after removal of i'th charatcter : \" +  new)"
   ]
  },
  {
   "cell_type": "code",
   "execution_count": 3,
   "id": "8f652baf",
   "metadata": {},
   "outputs": [
    {
     "name": "stdout",
     "output_type": "stream",
     "text": [
      "Yes\n"
     ]
    }
   ],
   "source": [
    "#Q3\n",
    "def check(string,sub_str):\n",
    "    if (string.find(sub_str) == -1):\n",
    "        print(\"N0\")\n",
    "    else:\n",
    "        print(\"Yes\")\n",
    "\n",
    "string = \"Himanshu Kaskar\"\n",
    "sub_str= \"Himan\"\n",
    "check(string,sub_str)"
   ]
  },
  {
   "cell_type": "code",
   "execution_count": 4,
   "id": "545e9944",
   "metadata": {},
   "outputs": [
    {
     "name": "stdout",
     "output_type": "stream",
     "text": [
      "Himanshu is good in Data Analyst good\n",
      "Words in the string:\n",
      "Counter({'good': 2, 'Himanshu': 1, 'is': 1, 'in': 1, 'Data': 1, 'Analyst': 1})\n"
     ]
    }
   ],
   "source": [
    "#Q4\n",
    "from collections import Counter\n",
    "string = \"Himanshu is good in Data Analyst good\"\n",
    "print(string)\n",
    "word = Counter(string.split())\n",
    "print(\"Words in the string:\")\n",
    "print(word)"
   ]
  },
  {
   "cell_type": "code",
   "execution_count": 5,
   "id": "c2b9dd81",
   "metadata": {},
   "outputs": [
    {
     "name": "stdout",
     "output_type": "stream",
     "text": [
      "The string after changing case: Himanshu Is Good In Data Analyst Good\n"
     ]
    }
   ],
   "source": [
    "#Q5\n",
    "string = \"Himanshu is good in Data Analyst good\"\n",
    "\n",
    "res = string.replace(\"-\",\" \").title().replace(\" \",\" \")\n",
    "\n",
    "print(\"The string after changing case: \" + str(res))"
   ]
  },
  {
   "cell_type": "code",
   "execution_count": 6,
   "id": "5d54d8ab",
   "metadata": {},
   "outputs": [
    {
     "name": "stdout",
     "output_type": "stream",
     "text": [
      "1. 15\n",
      "2. 15\n"
     ]
    }
   ],
   "source": [
    "#Q6\n",
    "string = \"himanshu Kaskar\"\n",
    "#1\n",
    "print(\"1.\",len(string))\n",
    "\n",
    "#2\n",
    "def findlen(string):\n",
    "    counter = 0\n",
    "    for i in string:\n",
    "        counter += 1\n",
    "    return counter\n",
    "\n",
    "print(\"2.\",findlen(string))"
   ]
  },
  {
   "cell_type": "code",
   "execution_count": 7,
   "id": "4d35c231",
   "metadata": {},
   "outputs": [
    {
     "name": "stdout",
     "output_type": "stream",
     "text": [
      "am\n",
      "himanshu\n",
      "None\n"
     ]
    }
   ],
   "source": [
    "#Q7\n",
    "def printWords(s):\n",
    "    s= s.split(' ')\n",
    "    for word in s:\n",
    "        if len(word)%2==0:\n",
    "            print(word)\n",
    "s = \"i am himanshu\"\n",
    "print(printWords(s))"
   ]
  },
  {
   "cell_type": "code",
   "execution_count": 8,
   "id": "b0bbd981",
   "metadata": {},
   "outputs": [
    {
     "name": "stdout",
     "output_type": "stream",
     "text": [
      "Accepted\n"
     ]
    }
   ],
   "source": [
    "#Q8\n",
    "def check(string):\n",
    "    string = string.lower()\n",
    "    vowels = set(\"aeiou\")\n",
    "    s = set({})\n",
    "    for char in string:\n",
    "        if char in vowels:\n",
    "            s.add(char)\n",
    "        else:\n",
    "            pass\n",
    "    if len(s) == len(vowels):\n",
    "        print(\"Accepted\")\n",
    "    else:\n",
    "        print(\"Not Accepted\")\n",
    "        \n",
    "if __name__ == \"__main__\":\n",
    "     string = \"SSEquoial\"\n",
    "     check(string)"
   ]
  },
  {
   "cell_type": "code",
   "execution_count": 9,
   "id": "254ac43a",
   "metadata": {},
   "outputs": [
    {
     "name": "stdout",
     "output_type": "stream",
     "text": [
      "No of matching characters are:  0\n"
     ]
    }
   ],
   "source": [
    "#Q9\n",
    "def count(str1,str2):\n",
    "    c,j = 0,0\n",
    "    for i in str1:\n",
    "        if str2.find(i)>= 0 and j == str2.find(i):\n",
    "             c += 1\n",
    "        j += 1\n",
    "    print('No of matching characters are: ',c)\n",
    "    \n",
    "def main():\n",
    "    str1 = \"aabbcvfgdhuuyg\"\n",
    "    str2 = \"bbccjdyiuimkhkjx\"\n",
    "    count(str1,str2)\n",
    "    \n",
    "if __name__==\"__main__\":\n",
    "    main()"
   ]
  },
  {
   "cell_type": "code",
   "execution_count": 10,
   "id": "5d817e96",
   "metadata": {},
   "outputs": [
    {
     "name": "stdout",
     "output_type": "stream",
     "text": [
      "without Order: rhkogfbd\n",
      "with order: gfrodbhk\n"
     ]
    }
   ],
   "source": [
    "#Q10\n",
    "def remove(str):\n",
    "    s=set(str)\n",
    "    s=\"\".join(s)\n",
    "    print(\"without Order:\",s)\n",
    "    t=\"\"\n",
    "    for i in str:\n",
    "        if(i in t):\n",
    "            pass\n",
    "        else:\n",
    "            t=t+i\n",
    "    print(\"with order:\",t)\n",
    "str = \"ggffrooddgbbhkd\"\n",
    "remove(str)"
   ]
  }
 ],
 "metadata": {
  "kernelspec": {
   "display_name": "Python 3",
   "language": "python",
   "name": "python3"
  },
  "language_info": {
   "codemirror_mode": {
    "name": "ipython",
    "version": 3
   },
   "file_extension": ".py",
   "mimetype": "text/x-python",
   "name": "python",
   "nbconvert_exporter": "python",
   "pygments_lexer": "ipython3",
   "version": "3.8.8"
  }
 },
 "nbformat": 4,
 "nbformat_minor": 5
}
