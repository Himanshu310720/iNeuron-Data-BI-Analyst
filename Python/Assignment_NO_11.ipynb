{
 "cells": [
  {
   "cell_type": "code",
   "execution_count": 1,
   "id": "27f14f65",
   "metadata": {},
   "outputs": [
    {
     "name": "stdout",
     "output_type": "stream",
     "text": [
      "The original dictionary is : {'HAK': [7, 6, 3], 'is': [2, 10, 3], 'best': [19, 4]}\n",
      "The sorted dictionary : {'HAK': [3, 6, 7], 'best': [4, 19], 'is': [2, 3, 10]}\n"
     ]
    }
   ],
   "source": [
    "#Q1\n",
    "test_dict = {'HAK': [7, 6, 3], \n",
    "             'is': [2, 10, 3], \n",
    "             'best': [19, 4]}\n",
    "res = dict()\n",
    "print(\"The original dictionary is : \" + str(test_dict))\n",
    "\n",
    "for key in sorted(test_dict):\n",
    "    res[key] = sorted(test_dict[key])\n",
    "\n",
    "print(\"The sorted dictionary : \" + str(res)) "
   ]
  },
  {
   "cell_type": "code",
   "execution_count": 2,
   "id": "b4a87ca7",
   "metadata": {},
   "outputs": [
    {
     "name": "stdout",
     "output_type": "stream",
     "text": [
      "0091\n",
      "Not Found\n"
     ]
    }
   ],
   "source": [
    "#Q2\n",
    "\n",
    "country_code = {'India' : '0091',\n",
    "                'Australia' : '0025',\n",
    "                'Nepal' : '00977'}\n",
    "\n",
    "print(country_code.get('India', 'Not Found'))\n",
    " \n",
    "\n",
    "print(country_code.get('Japan', 'Not Found'))"
   ]
  },
  {
   "cell_type": "code",
   "execution_count": 3,
   "id": "5f37ad82",
   "metadata": {},
   "outputs": [
    {
     "name": "stdout",
     "output_type": "stream",
     "text": [
      "{(10, 20, 30): 0, (5, 2, 4): 3}\n"
     ]
    }
   ],
   "source": [
    "#Q3\n",
    "import random as rn\n",
    " \n",
    "\n",
    "dict = {}\n",
    " \n",
    "\n",
    "x, y, z = 10, 20, 30\n",
    "dict[x, y, z] = x + y - z;\n",
    " \n",
    "\n",
    "x, y, z = 5, 2, 4\n",
    "dict[x, y, z] = x + y - z;\n",
    " \n",
    "\n",
    "print(dict)"
   ]
  },
  {
   "cell_type": "code",
   "execution_count": 4,
   "id": "b2c34809",
   "metadata": {},
   "outputs": [
    {
     "name": "stdout",
     "output_type": "stream",
     "text": [
      "cat tac act dog god \n"
     ]
    }
   ],
   "source": [
    "#Q4\n",
    "def allAnagram(input): \n",
    "      \n",
    " \n",
    "    dict = {} \n",
    "  \n",
    "   \n",
    "    for strVal in input: \n",
    "          \n",
    "       \n",
    "        key = ''.join(sorted(strVal)) \n",
    "          \n",
    "      \n",
    "        if key in dict.keys(): \n",
    "            dict[key].append(strVal) \n",
    "        else: \n",
    "            dict[key] = [] \n",
    "            dict[key].append(strVal) \n",
    "  \n",
    "  \n",
    "    output = \"\" \n",
    "    for key,value in dict.items(): \n",
    "        output = output + ' '.join(value) + ' '\n",
    "  \n",
    "    return output \n",
    "  \n",
    "\n",
    "if __name__ == \"__main__\": \n",
    "    input=['cat', 'dog', 'tac', 'god', 'act'] \n",
    "    print (allAnagram(input)) "
   ]
  },
  {
   "cell_type": "code",
   "execution_count": 5,
   "id": "0edc3d69",
   "metadata": {},
   "outputs": [
    {
     "name": "stdout",
     "output_type": "stream",
     "text": [
      "The original string is : IneuronIsBest\n",
      "The string after removal of i'th character : InuronIsBest\n"
     ]
    }
   ],
   "source": [
    "#Q5\n",
    "test_str = \"IneuronIsBest\"\n",
    "  \n",
    "\n",
    "print (\"The original string is : \" + test_str)\n",
    "  \n",
    "\n",
    "new_str = \"\"\n",
    "  \n",
    "for i in range(len(test_str)):\n",
    "    if i != 2:\n",
    "        new_str = new_str + test_str[i]\n",
    "  \n",
    " \n",
    "print (\"The string after removal of i'th character : \" + new_str)"
   ]
  },
  {
   "cell_type": "code",
   "execution_count": 6,
   "id": "959ef31c",
   "metadata": {},
   "outputs": [
    {
     "name": "stdout",
     "output_type": "stream",
     "text": [
      "Yes\n"
     ]
    }
   ],
   "source": [
    "#Q6\n",
    "from collections import Counter\n",
    "  \n",
    "def checkAnagram(num1,num2):\n",
    "  \n",
    "    \n",
    "    bin1 = bin(num1)[2:]\n",
    "    bin2 = bin(num2)[2:]\n",
    "  \n",
    "    \n",
    "    zeros = abs(len(bin1)-len(bin2))\n",
    "    if (len(bin1)>len(bin2)):\n",
    "         bin2 = zeros * '0' + bin2\n",
    "    else:\n",
    "         bin1 = zeros * '0' + bin1\n",
    "  \n",
    "  \n",
    "    dict1 = Counter(bin1)\n",
    "    dict2 = Counter(bin2)\n",
    "  \n",
    " \n",
    "    if dict1 == dict2:\n",
    "         print('Yes')\n",
    "    else:\n",
    "         print('No')\n",
    "  \n",
    "\n",
    "if __name__ == \"__main__\":\n",
    "    num1 = 8\n",
    "    num2 = 4\n",
    "    checkAnagram(num1,num2)"
   ]
  },
  {
   "cell_type": "code",
   "execution_count": 7,
   "id": "655f9ab4",
   "metadata": {},
   "outputs": [
    {
     "name": "stdout",
     "output_type": "stream",
     "text": [
      "3\n"
     ]
    }
   ],
   "source": [
    "#Q7\n",
    "from collections import Counter\n",
    "  \n",
    "def maxAnagramSize(input):\n",
    "  \n",
    "    input = input.split(\" \")\n",
    "  \n",
    "\n",
    "    for i in range(0,len(input)):\n",
    "         input[i]=''.join(sorted(input[i]))\n",
    "  \n",
    "  \n",
    "    freqDict = Counter(input)\n",
    "\n",
    "    print (max(freqDict.values()))\n",
    "  \n",
    "\n",
    "if __name__ == \"__main__\":\n",
    "    input = 'ant magenta magnate tan gnamate'\n",
    "    maxAnagramSize(input)"
   ]
  },
  {
   "cell_type": "code",
   "execution_count": 9,
   "id": "a0df687c",
   "metadata": {},
   "outputs": [
    {
     "name": "stdout",
     "output_type": "stream",
     "text": [
      "Python is great and Java also\n"
     ]
    }
   ],
   "source": [
    "#Q8\n",
    "from collections import Counter\n",
    " \n",
    "def remov_duplicates(input):\n",
    " \n",
    "    input = input.split(\" \")\n",
    " \n",
    "    for i in range(0, len(input)):\n",
    "        input[i] = \"\".join(input[i])\n",
    " \n",
    "    UniqW = Counter(input)\n",
    " \n",
    "    s = \" \".join(UniqW.keys())\n",
    "    print (s)\n",
    " \n",
    "\n",
    "if __name__ == \"__main__\":\n",
    "    input = 'Python is great and Java is also great'\n",
    "    remov_duplicates(input)\n"
   ]
  },
  {
   "cell_type": "code",
   "execution_count": null,
   "id": "ff7154ed",
   "metadata": {},
   "outputs": [],
   "source": [
    "#Q9\n",
    " \n",
    "def mirror(term,n): \n",
    "    start = 'abcdefghijklmnopqrstuvwxyz'\n",
    "    mirr = 'zyxwvutsrqponmlkjihgfedcba'\n",
    "    mchars = dict(zip(start,mirr))\n",
    "    aft = term[n-1:] \n",
    "    nstr = \"\"\n",
    "    for i in range(0,len(aft)): \n",
    "        nstr = nstr + mchars[aft[i]] \n",
    "        print (bef+nstr)   \n",
    "    \n",
    "if __name__ == \"__main__\": \n",
    "    term = \"Himanshu\"\n",
    "    n = 4\n",
    "    mirror(term,n)"
   ]
  },
  {
   "cell_type": "code",
   "execution_count": 10,
   "id": "0c46933b",
   "metadata": {},
   "outputs": [
    {
     "name": "stdout",
     "output_type": "stream",
     "text": [
      " 1 :  5\n",
      " 5 :  2\n",
      " 3 :  3\n",
      " 4 :  3\n",
      " 2 :  4\n"
     ]
    }
   ],
   "source": [
    "#Q10\n",
    "def CountFrequency(my_list):\n",
    " \n",
    "    freq = {}\n",
    "    for item in my_list:\n",
    "        if (item in freq):\n",
    "            freq[item] += 1\n",
    "        else:\n",
    "            freq[item] = 1\n",
    " \n",
    "    for key, value in freq.items():\n",
    "        print (\"% d : % d\"%(key, value))\n",
    " \n",
    "\n",
    "if __name__ == \"__main__\":\n",
    "    my_list =[1, 1, 1, 5, 5, 3, 1, 3, 3, 1, 4, 4, 4, 2, 2, 2, 2]\n",
    " \n",
    "    CountFrequency(my_list)"
   ]
  }
 ],
 "metadata": {
  "kernelspec": {
   "display_name": "Python 3",
   "language": "python",
   "name": "python3"
  },
  "language_info": {
   "codemirror_mode": {
    "name": "ipython",
    "version": 3
   },
   "file_extension": ".py",
   "mimetype": "text/x-python",
   "name": "python",
   "nbconvert_exporter": "python",
   "pygments_lexer": "ipython3",
   "version": "3.8.8"
  }
 },
 "nbformat": 4,
 "nbformat_minor": 5
}
