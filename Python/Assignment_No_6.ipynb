{
 "cells": [
  {
   "cell_type": "code",
   "execution_count": 1,
   "id": "b158a918",
   "metadata": {},
   "outputs": [
    {
     "name": "stdout",
     "output_type": "stream",
     "text": [
      "[17, 15, 4]\n",
      "[10, 12, 9]\n",
      "[11, 13, 18]\n"
     ]
    }
   ],
   "source": [
    "#Q1\n",
    "X = [[12,7,3],\n",
    "     [4 ,5,6],\n",
    "     [7 ,8,9]]\n",
    "Y = [[5,8,1],\n",
    "     [6,7,3], \n",
    "     [4,5,9]]\n",
    "\n",
    "result = [[0,0,0], \n",
    "          [0,0,0], \n",
    "          [0,0,0]]\n",
    "\n",
    "for i in range(len(X)): \n",
    "    for j in range(len(X[0])):\n",
    "        result[i][j] = X[i][j] + Y[i][j] \n",
    "            \n",
    "for r in result: \n",
    "    print(r)"
   ]
  },
  {
   "cell_type": "code",
   "execution_count": 2,
   "id": "ce4635f5",
   "metadata": {},
   "outputs": [
    {
     "name": "stdout",
     "output_type": "stream",
     "text": [
      "[114, 160, 60]\n",
      "[74, 97, 73]\n",
      "[119, 157, 112]\n"
     ]
    }
   ],
   "source": [
    "#Q2\n",
    "X = [[12,7,3],\n",
    "     [4 ,5,6],\n",
    "     [7 ,8,9]]\n",
    "Y = [[5,8,1],\n",
    "     [6,7,3], \n",
    "     [4,5,9]]\n",
    "\n",
    "result = [[0,0,0], \n",
    "          [0,0,0], \n",
    "          [0,0,0]]\n",
    "\n",
    "for i in range(len(X)): \n",
    "    for j in range(len(Y[0])):\n",
    "        for k in range(len(Y)):\n",
    "            result[i][j] += X[i][k] * Y[k][j] \n",
    "            \n",
    "for r in result: \n",
    "    print(r)\n"
   ]
  },
  {
   "cell_type": "code",
   "execution_count": 3,
   "id": "aa034c43",
   "metadata": {},
   "outputs": [
    {
     "name": "stdout",
     "output_type": "stream",
     "text": [
      "[114, 160, 60]\n",
      "[74, 97, 73]\n",
      "[119, 157, 112]\n"
     ]
    }
   ],
   "source": [
    "#Q3\n",
    "X = [[12,7,3],\n",
    "     [4 ,5,6],\n",
    "     [7 ,8,9]]\n",
    "Y = [[5,8,1],\n",
    "     [6,7,3], \n",
    "     [4,5,9]]\n",
    "\n",
    "result = [[0,0,0], \n",
    "          [0,0,0], \n",
    "          [0,0,0]]\n",
    "\n",
    "for i in range(len(X)): \n",
    "    for j in range(len(Y[0])):\n",
    "        for k in range(len(Y)):\n",
    "            result[i][j] += X[i][k] * Y[k][j] \n",
    "            \n",
    "for r in result: \n",
    "    print(r)\n"
   ]
  },
  {
   "cell_type": "code",
   "execution_count": 4,
   "id": "7e9ca08a",
   "metadata": {},
   "outputs": [
    {
     "name": "stdout",
     "output_type": "stream",
     "text": [
      "addition of two Matrix:\n",
      "[[17 15  4]\n",
      " [10 12  9]\n",
      " [11 13 18]]\n",
      "Subtraction of two Matrix:\n",
      "[[ 7 -1  2]\n",
      " [-2 -2  3]\n",
      " [ 3  3  0]]\n"
     ]
    }
   ],
   "source": [
    "#Q4\n",
    "import numpy as np\n",
    "X = [[12,7,3],\n",
    "     [4 ,5,6],\n",
    "     [7 ,8,9]]\n",
    "Y = [[5,8,1],\n",
    "     [6,7,3], \n",
    "     [4,5,9]]\n",
    "print(\"addition of two Matrix:\")\n",
    "print(np.add(X,Y))\n",
    "\n",
    "print(\"Subtraction of two Matrix:\")\n",
    "print(np.subtract(X,Y))"
   ]
  },
  {
   "cell_type": "code",
   "execution_count": 5,
   "id": "38989764",
   "metadata": {},
   "outputs": [
    {
     "name": "stdout",
     "output_type": "stream",
     "text": [
      "[[1, 2, 3], [4, 5, 6]]\n",
      "\n",
      "\n",
      "[[1 4]\n",
      " [2 5]\n",
      " [3 6]]\n"
     ]
    }
   ],
   "source": [
    "#Q5\n",
    "import numpy as np\n",
    "matrix = [[1,2,3],\n",
    "          [4,5,6]]\n",
    "print(matrix)\n",
    "print(\"\\n\")\n",
    "print(np.transpose(matrix))"
   ]
  },
  {
   "cell_type": "code",
   "execution_count": 6,
   "id": "04d56c88",
   "metadata": {},
   "outputs": [
    {
     "name": "stdout",
     "output_type": "stream",
     "text": [
      "The Dimension:4\n",
      "The created matrix of N * N: [[1, 2, 3, 4], [5, 6, 7, 8], [9, 10, 11, 12], [13, 14, 15, 16]]\n"
     ]
    }
   ],
   "source": [
    "#Q6\n",
    "N =4 \n",
    "print(\"The Dimension:\" +str(N))\n",
    "res = [list(range(1 + N * i,1+ N * (i + 1)))\n",
    "       for i in range(N)]\n",
    "\n",
    "print(\"The created matrix of N * N: \" + str(res))"
   ]
  },
  {
   "cell_type": "code",
   "execution_count": 7,
   "id": "d2e51c66",
   "metadata": {},
   "outputs": [
    {
     "name": "stdout",
     "output_type": "stream",
     "text": [
      "The original list is : [[4, 5, 6], [8, 1, 10], [7, 12, 5]]\n",
      "The Kth column of Matrix is :[6, 10, 5]\n"
     ]
    }
   ],
   "source": [
    "#Q7\n",
    "test_list = [[4, 5, 6], [8, 1, 10], [7, 12, 5]]\n",
    "print(\"The original list is : \" + str(test_list)) \n",
    "K = 2\n",
    "\n",
    "res = [sub[K] for sub in test_list] \n",
    "\n",
    "print(\"The Kth column of Matrix is :\" + str(res))\n"
   ]
  },
  {
   "cell_type": "code",
   "execution_count": 8,
   "id": "2aed9984",
   "metadata": {},
   "outputs": [
    {
     "name": "stdout",
     "output_type": "stream",
     "text": [
      "The original list : [['Gfg', 'good'], ['is', 'for'], ['Best']]\n",
      "List after column Concatenation : ['GfgisBest', 'goodfor']\n"
     ]
    }
   ],
   "source": [
    "#Q8\n",
    "test_list = [[\"Gfg\", \"good\"], [\"is\", \"for\"], [\"Best\"]]\n",
    "print(\"The original list : \" + str(test_list)) \n",
    "\n",
    "\n",
    "res = [] \n",
    "N = 0 \n",
    "\n",
    "while N != len(test_list): \n",
    "    temp = '' \n",
    "    for idx in test_list:\n",
    "        try: temp = temp + idx[N] \n",
    "        except IndexError: pass \n",
    "    res.append(temp) \n",
    "    N = N + 1 \n",
    "\n",
    "res = [ele for ele in res if ele] \n",
    "\n",
    "print(\"List after column Concatenation : \" + str(res)) "
   ]
  },
  {
   "cell_type": "code",
   "execution_count": 9,
   "id": "81248d7c",
   "metadata": {},
   "outputs": [
    {
     "name": "stdout",
     "output_type": "stream",
     "text": [
      "Yes\n"
     ]
    }
   ],
   "source": [
    "#Q9\n",
    "def  isPalindrome(s):\n",
    "    return s == s[::-1]\n",
    "\n",
    "s = \"malayalam\"\n",
    "ans = isPalindrome(s)\n",
    "\n",
    "if ans:\n",
    "    print(\"Yes\")\n",
    "else:\n",
    "    print(\"No\")\n",
    "    "
   ]
  },
  {
   "cell_type": "code",
   "execution_count": 10,
   "id": "10f14b90",
   "metadata": {},
   "outputs": [
    {
     "name": "stdout",
     "output_type": "stream",
     "text": [
      "amaama string is symmertical\n",
      "amaama string is palindrome\n"
     ]
    }
   ],
   "source": [
    "#Q10\n",
    "string = 'amaama' \n",
    "half = int(len(string) / 2) \n",
    "if len(string) % 2 == 0:\n",
    "    first_str = string[:half]\n",
    "    second_str = string[half:]\n",
    "else:\n",
    "    first_str= string[:half]\n",
    "    second_str= string[half+1:]\n",
    "\n",
    "#symetric\n",
    "if first_str == second_str:\n",
    "    print(string, 'string is symmertical')\n",
    "else:\n",
    "    print(string, 'string is not symmertical')\n",
    "if first_str == second_str[::-1]:\n",
    "    print(string, 'string is palindrome') \n",
    "else: \n",
    "    print(string, 'string is not palindrome') "
   ]
  }
 ],
 "metadata": {
  "kernelspec": {
   "display_name": "Python 3",
   "language": "python",
   "name": "python3"
  },
  "language_info": {
   "codemirror_mode": {
    "name": "ipython",
    "version": 3
   },
   "file_extension": ".py",
   "mimetype": "text/x-python",
   "name": "python",
   "nbconvert_exporter": "python",
   "pygments_lexer": "ipython3",
   "version": "3.8.8"
  }
 },
 "nbformat": 4,
 "nbformat_minor": 5
}
