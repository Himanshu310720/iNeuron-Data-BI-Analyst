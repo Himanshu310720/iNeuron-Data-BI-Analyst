{
 "cells": [
  {
   "cell_type": "code",
   "execution_count": 1,
   "id": "5c2c9a12",
   "metadata": {},
   "outputs": [
    {
     "name": "stdout",
     "output_type": "stream",
     "text": [
      "Smallest Element is: 8\n",
      "Smallest Element is: 8\n"
     ]
    }
   ],
   "source": [
    "#Q1\n",
    "list = [10,12,12,16,184,77,8,99]\n",
    "\n",
    "list.sort()\n",
    "print(\"Smallest Element is:\",*list[:1])\n",
    "print(\"Smallest Element is:\",min(list))"
   ]
  },
  {
   "cell_type": "code",
   "execution_count": 2,
   "id": "4f072377",
   "metadata": {},
   "outputs": [
    {
     "name": "stdout",
     "output_type": "stream",
     "text": [
      "Smallest Element is: 184\n",
      "Smallest Element is: 184\n"
     ]
    }
   ],
   "source": [
    "#Q2\n",
    "list = [10,12,12,16,184,77,8,99]\n",
    "\n",
    "list.sort()\n",
    "print(\"Smallest Element is:\",list[-1])\n",
    "print(\"Smallest Element is:\",max(list))"
   ]
  },
  {
   "cell_type": "code",
   "execution_count": 3,
   "id": "cbf09079",
   "metadata": {},
   "outputs": [
    {
     "name": "stdout",
     "output_type": "stream",
     "text": [
      "Smallest Element is: 99\n"
     ]
    }
   ],
   "source": [
    "#Q3\n",
    "list = [10,12,12,16,184,77,8,99]\n",
    "\n",
    "list.sort()\n",
    "print(\"Smallest Element is:\",list[-2])"
   ]
  },
  {
   "cell_type": "code",
   "execution_count": 4,
   "id": "949be1a3",
   "metadata": {},
   "outputs": [
    {
     "name": "stdout",
     "output_type": "stream",
     "text": [
      "2 largest Element is 99\n"
     ]
    }
   ],
   "source": [
    "#Q4\n",
    "list = [10,12,12,16,184,77,8,99]\n",
    "n=2\n",
    "list.sort()\n",
    "print(n,\"largest Element is\",list[-n])"
   ]
  },
  {
   "cell_type": "code",
   "execution_count": 5,
   "id": "91fc5c14",
   "metadata": {},
   "outputs": [
    {
     "name": "stdout",
     "output_type": "stream",
     "text": [
      "Even Numbers are [10, 12, 12, 16, 184, 8]\n"
     ]
    }
   ],
   "source": [
    "#Q5\n",
    "list = [10,12,12,16,184,77,8,99]\n",
    "\n",
    "even_nos = [num for num in list if num % 2 == 0]\n",
    "print(\"Even Numbers are\",even_nos)"
   ]
  },
  {
   "cell_type": "code",
   "execution_count": 6,
   "id": "790cab72",
   "metadata": {},
   "outputs": [
    {
     "name": "stdout",
     "output_type": "stream",
     "text": [
      "Odd Numbers are [77, 99]\n"
     ]
    }
   ],
   "source": [
    "#Q6\n",
    "list = [10,12,12,16,184,77,8,99]\n",
    "\n",
    "even_nos = [num for num in list if num % 2 == 1]\n",
    "print(\"Odd Numbers are\",even_nos)"
   ]
  },
  {
   "cell_type": "code",
   "execution_count": 7,
   "id": "a08fb528",
   "metadata": {},
   "outputs": [
    {
     "name": "stdout",
     "output_type": "stream",
     "text": [
      "Enter Number start of range: 5\n",
      "Enter Number end of range: 50\n",
      "6 8 10 12 14 16 18 20 22 24 26 28 30 32 34 36 38 40 42 44 46 48 50 "
     ]
    }
   ],
   "source": [
    "#Q7\n",
    "start = int(input(\"Enter Number start of range: \"))\n",
    "end = int(input(\"Enter Number end of range: \"))\n",
    "\n",
    "for num in range(start,end+1):\n",
    "    \n",
    "    if num % 2 == 0:\n",
    "        print(num,end =' ')\n"
   ]
  },
  {
   "cell_type": "code",
   "execution_count": 8,
   "id": "ea7b14e3",
   "metadata": {},
   "outputs": [
    {
     "name": "stdout",
     "output_type": "stream",
     "text": [
      "Enter Number start of range: 5\n",
      "Enter Number end of range: 50\n",
      "5 7 9 11 13 15 17 19 21 23 25 27 29 31 33 35 37 39 41 43 45 47 49 "
     ]
    }
   ],
   "source": [
    "#Q8\n",
    "start = int(input(\"Enter Number start of range: \"))\n",
    "end = int(input(\"Enter Number end of range: \"))\n",
    "\n",
    "for num in range(start,end+1):\n",
    "    \n",
    "    if num % 2 == 1:\n",
    "        print(num,end =' ')\n"
   ]
  },
  {
   "cell_type": "code",
   "execution_count": 9,
   "id": "f7bb871e",
   "metadata": {},
   "outputs": [
    {
     "name": "stdout",
     "output_type": "stream",
     "text": [
      "Positive Numbers are [10, 12, 16, 77, 99]\n"
     ]
    }
   ],
   "source": [
    "#Q9\n",
    "list = [10,12,-12,16,-184,77,-8,99]\n",
    "\n",
    "positive_nos = [num for num in list if num >= 0]\n",
    "print(\"Positive Numbers are\",positive_nos)"
   ]
  },
  {
   "cell_type": "code",
   "execution_count": 10,
   "id": "cf2054e2",
   "metadata": {},
   "outputs": [
    {
     "name": "stdout",
     "output_type": "stream",
     "text": [
      "Negative Numbers are [-12, -184, -8]\n"
     ]
    }
   ],
   "source": [
    "#Q10\n",
    "list = [10,12,-12,16,-184,77,-8,99]\n",
    "\n",
    "negative_nos = [num for num in list if num < 0]\n",
    "print(\"Negative Numbers are\",negative_nos)"
   ]
  },
  {
   "cell_type": "code",
   "execution_count": 11,
   "id": "9debb70d",
   "metadata": {},
   "outputs": [
    {
     "name": "stdout",
     "output_type": "stream",
     "text": [
      "Enter Number start of range: -5\n",
      "Enter Number end of range: 5\n",
      "0 1 2 3 4 5 "
     ]
    }
   ],
   "source": [
    "#Q11\n",
    "start = int(input(\"Enter Number start of range: \"))\n",
    "end = int(input(\"Enter Number end of range: \"))\n",
    "\n",
    "for num in range(start,end+1):\n",
    "    \n",
    "    if num  >= 0:\n",
    "        print(num,end =' ')\n"
   ]
  },
  {
   "cell_type": "code",
   "execution_count": null,
   "id": "72a5a02c",
   "metadata": {},
   "outputs": [],
   "source": []
  },
  {
   "cell_type": "code",
   "execution_count": null,
   "id": "23c6200e",
   "metadata": {},
   "outputs": [],
   "source": []
  }
 ],
 "metadata": {
  "kernelspec": {
   "display_name": "Python 3",
   "language": "python",
   "name": "python3"
  },
  "language_info": {
   "codemirror_mode": {
    "name": "ipython",
    "version": 3
   },
   "file_extension": ".py",
   "mimetype": "text/x-python",
   "name": "python",
   "nbconvert_exporter": "python",
   "pygments_lexer": "ipython3",
   "version": "3.8.8"
  }
 },
 "nbformat": 4,
 "nbformat_minor": 5
}
